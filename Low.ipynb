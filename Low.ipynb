{
 "cells": [
  {
   "cell_type": "code",
   "execution_count": 1,
   "id": "1e6d1ee6",
   "metadata": {},
   "outputs": [
    {
     "name": "stderr",
     "output_type": "stream",
     "text": [
      "/Users/EltonSchool/anaconda3/lib/python3.11/site-packages/pandas/core/arrays/masked.py:61: UserWarning: Pandas requires version '1.3.6' or newer of 'bottleneck' (version '1.3.5' currently installed).\n",
      "  from pandas.core import (\n"
     ]
    },
    {
     "name": "stdout",
     "output_type": "stream",
     "text": [
      "ACN\n"
     ]
    },
    {
     "name": "stderr",
     "output_type": "stream",
     "text": [
      "/var/folders/ws/7t3gqj3100d_5thx31mhght00000gp/T/ipykernel_14025/1261142733.py:15: FutureWarning: YF.download() has changed argument auto_adjust default to True\n",
      "  data = yf.download(ticker, start='1978-01-01', interval='1mo', progress=False)\n"
     ]
    },
    {
     "name": "stdout",
     "output_type": "stream",
     "text": [
      "ADBE\n"
     ]
    },
    {
     "name": "stderr",
     "output_type": "stream",
     "text": [
      "/var/folders/ws/7t3gqj3100d_5thx31mhght00000gp/T/ipykernel_14025/1261142733.py:15: FutureWarning: YF.download() has changed argument auto_adjust default to True\n",
      "  data = yf.download(ticker, start='1978-01-01', interval='1mo', progress=False)\n"
     ]
    },
    {
     "name": "stdout",
     "output_type": "stream",
     "text": [
      "AMD\n"
     ]
    },
    {
     "name": "stderr",
     "output_type": "stream",
     "text": [
      "/var/folders/ws/7t3gqj3100d_5thx31mhght00000gp/T/ipykernel_14025/1261142733.py:15: FutureWarning: YF.download() has changed argument auto_adjust default to True\n",
      "  data = yf.download(ticker, start='1978-01-01', interval='1mo', progress=False)\n"
     ]
    },
    {
     "name": "stdout",
     "output_type": "stream",
     "text": [
      "AKAM\n",
      "APH\n"
     ]
    },
    {
     "name": "stderr",
     "output_type": "stream",
     "text": [
      "/var/folders/ws/7t3gqj3100d_5thx31mhght00000gp/T/ipykernel_14025/1261142733.py:15: FutureWarning: YF.download() has changed argument auto_adjust default to True\n",
      "  data = yf.download(ticker, start='1978-01-01', interval='1mo', progress=False)\n",
      "/var/folders/ws/7t3gqj3100d_5thx31mhght00000gp/T/ipykernel_14025/1261142733.py:15: FutureWarning: YF.download() has changed argument auto_adjust default to True\n",
      "  data = yf.download(ticker, start='1978-01-01', interval='1mo', progress=False)\n"
     ]
    },
    {
     "name": "stdout",
     "output_type": "stream",
     "text": [
      "ADI\n"
     ]
    },
    {
     "name": "stderr",
     "output_type": "stream",
     "text": [
      "/var/folders/ws/7t3gqj3100d_5thx31mhght00000gp/T/ipykernel_14025/1261142733.py:15: FutureWarning: YF.download() has changed argument auto_adjust default to True\n",
      "  data = yf.download(ticker, start='1978-01-01', interval='1mo', progress=False)\n"
     ]
    },
    {
     "name": "stdout",
     "output_type": "stream",
     "text": [
      "AAPL\n"
     ]
    },
    {
     "name": "stderr",
     "output_type": "stream",
     "text": [
      "/var/folders/ws/7t3gqj3100d_5thx31mhght00000gp/T/ipykernel_14025/1261142733.py:15: FutureWarning: YF.download() has changed argument auto_adjust default to True\n",
      "  data = yf.download(ticker, start='1978-01-01', interval='1mo', progress=False)\n"
     ]
    },
    {
     "name": "stdout",
     "output_type": "stream",
     "text": [
      "AMAT\n"
     ]
    },
    {
     "name": "stderr",
     "output_type": "stream",
     "text": [
      "/var/folders/ws/7t3gqj3100d_5thx31mhght00000gp/T/ipykernel_14025/1261142733.py:15: FutureWarning: YF.download() has changed argument auto_adjust default to True\n",
      "  data = yf.download(ticker, start='1978-01-01', interval='1mo', progress=False)\n"
     ]
    },
    {
     "name": "stdout",
     "output_type": "stream",
     "text": [
      "APP\n",
      "ANET\n"
     ]
    },
    {
     "name": "stderr",
     "output_type": "stream",
     "text": [
      "/var/folders/ws/7t3gqj3100d_5thx31mhght00000gp/T/ipykernel_14025/1261142733.py:15: FutureWarning: YF.download() has changed argument auto_adjust default to True\n",
      "  data = yf.download(ticker, start='1978-01-01', interval='1mo', progress=False)\n",
      "/var/folders/ws/7t3gqj3100d_5thx31mhght00000gp/T/ipykernel_14025/1261142733.py:15: FutureWarning: YF.download() has changed argument auto_adjust default to True\n",
      "  data = yf.download(ticker, start='1978-01-01', interval='1mo', progress=False)\n"
     ]
    },
    {
     "name": "stdout",
     "output_type": "stream",
     "text": [
      "ADSK\n"
     ]
    },
    {
     "name": "stderr",
     "output_type": "stream",
     "text": [
      "/var/folders/ws/7t3gqj3100d_5thx31mhght00000gp/T/ipykernel_14025/1261142733.py:15: FutureWarning: YF.download() has changed argument auto_adjust default to True\n",
      "  data = yf.download(ticker, start='1978-01-01', interval='1mo', progress=False)\n"
     ]
    },
    {
     "name": "stdout",
     "output_type": "stream",
     "text": [
      "AVGO\n",
      "CDNS\n"
     ]
    },
    {
     "name": "stderr",
     "output_type": "stream",
     "text": [
      "/var/folders/ws/7t3gqj3100d_5thx31mhght00000gp/T/ipykernel_14025/1261142733.py:15: FutureWarning: YF.download() has changed argument auto_adjust default to True\n",
      "  data = yf.download(ticker, start='1978-01-01', interval='1mo', progress=False)\n",
      "/var/folders/ws/7t3gqj3100d_5thx31mhght00000gp/T/ipykernel_14025/1261142733.py:15: FutureWarning: YF.download() has changed argument auto_adjust default to True\n",
      "  data = yf.download(ticker, start='1978-01-01', interval='1mo', progress=False)\n"
     ]
    },
    {
     "name": "stdout",
     "output_type": "stream",
     "text": [
      "CDW\n"
     ]
    },
    {
     "name": "stderr",
     "output_type": "stream",
     "text": [
      "/var/folders/ws/7t3gqj3100d_5thx31mhght00000gp/T/ipykernel_14025/1261142733.py:15: FutureWarning: YF.download() has changed argument auto_adjust default to True\n",
      "  data = yf.download(ticker, start='1978-01-01', interval='1mo', progress=False)\n"
     ]
    },
    {
     "name": "stdout",
     "output_type": "stream",
     "text": [
      "CSCO\n"
     ]
    },
    {
     "name": "stderr",
     "output_type": "stream",
     "text": [
      "/var/folders/ws/7t3gqj3100d_5thx31mhght00000gp/T/ipykernel_14025/1261142733.py:15: FutureWarning: YF.download() has changed argument auto_adjust default to True\n",
      "  data = yf.download(ticker, start='1978-01-01', interval='1mo', progress=False)\n"
     ]
    },
    {
     "name": "stdout",
     "output_type": "stream",
     "text": [
      "CTSH\n"
     ]
    },
    {
     "name": "stderr",
     "output_type": "stream",
     "text": [
      "/var/folders/ws/7t3gqj3100d_5thx31mhght00000gp/T/ipykernel_14025/1261142733.py:15: FutureWarning: YF.download() has changed argument auto_adjust default to True\n",
      "  data = yf.download(ticker, start='1978-01-01', interval='1mo', progress=False)\n"
     ]
    },
    {
     "name": "stdout",
     "output_type": "stream",
     "text": [
      "GLW\n"
     ]
    },
    {
     "name": "stderr",
     "output_type": "stream",
     "text": [
      "/var/folders/ws/7t3gqj3100d_5thx31mhght00000gp/T/ipykernel_14025/1261142733.py:15: FutureWarning: YF.download() has changed argument auto_adjust default to True\n",
      "  data = yf.download(ticker, start='1978-01-01', interval='1mo', progress=False)\n"
     ]
    },
    {
     "name": "stdout",
     "output_type": "stream",
     "text": [
      "CRWD\n"
     ]
    },
    {
     "name": "stderr",
     "output_type": "stream",
     "text": [
      "/var/folders/ws/7t3gqj3100d_5thx31mhght00000gp/T/ipykernel_14025/1261142733.py:15: FutureWarning: YF.download() has changed argument auto_adjust default to True\n",
      "  data = yf.download(ticker, start='1978-01-01', interval='1mo', progress=False)\n"
     ]
    },
    {
     "name": "stdout",
     "output_type": "stream",
     "text": [
      "DDOG\n"
     ]
    },
    {
     "name": "stderr",
     "output_type": "stream",
     "text": [
      "/var/folders/ws/7t3gqj3100d_5thx31mhght00000gp/T/ipykernel_14025/1261142733.py:15: FutureWarning: YF.download() has changed argument auto_adjust default to True\n",
      "  data = yf.download(ticker, start='1978-01-01', interval='1mo', progress=False)\n"
     ]
    },
    {
     "name": "stdout",
     "output_type": "stream",
     "text": [
      "DELL\n"
     ]
    },
    {
     "name": "stderr",
     "output_type": "stream",
     "text": [
      "/var/folders/ws/7t3gqj3100d_5thx31mhght00000gp/T/ipykernel_14025/1261142733.py:15: FutureWarning: YF.download() has changed argument auto_adjust default to True\n",
      "  data = yf.download(ticker, start='1978-01-01', interval='1mo', progress=False)\n"
     ]
    },
    {
     "name": "stdout",
     "output_type": "stream",
     "text": [
      "EPAM\n"
     ]
    },
    {
     "name": "stderr",
     "output_type": "stream",
     "text": [
      "/var/folders/ws/7t3gqj3100d_5thx31mhght00000gp/T/ipykernel_14025/1261142733.py:15: FutureWarning: YF.download() has changed argument auto_adjust default to True\n",
      "  data = yf.download(ticker, start='1978-01-01', interval='1mo', progress=False)\n"
     ]
    },
    {
     "name": "stdout",
     "output_type": "stream",
     "text": [
      "FFIV\n"
     ]
    },
    {
     "name": "stderr",
     "output_type": "stream",
     "text": [
      "/var/folders/ws/7t3gqj3100d_5thx31mhght00000gp/T/ipykernel_14025/1261142733.py:15: FutureWarning: YF.download() has changed argument auto_adjust default to True\n",
      "  data = yf.download(ticker, start='1978-01-01', interval='1mo', progress=False)\n"
     ]
    },
    {
     "name": "stdout",
     "output_type": "stream",
     "text": [
      "FICO\n"
     ]
    },
    {
     "name": "stderr",
     "output_type": "stream",
     "text": [
      "/var/folders/ws/7t3gqj3100d_5thx31mhght00000gp/T/ipykernel_14025/1261142733.py:15: FutureWarning: YF.download() has changed argument auto_adjust default to True\n",
      "  data = yf.download(ticker, start='1978-01-01', interval='1mo', progress=False)\n"
     ]
    },
    {
     "name": "stdout",
     "output_type": "stream",
     "text": [
      "FSLR\n"
     ]
    },
    {
     "name": "stderr",
     "output_type": "stream",
     "text": [
      "/var/folders/ws/7t3gqj3100d_5thx31mhght00000gp/T/ipykernel_14025/1261142733.py:15: FutureWarning: YF.download() has changed argument auto_adjust default to True\n",
      "  data = yf.download(ticker, start='1978-01-01', interval='1mo', progress=False)\n"
     ]
    },
    {
     "name": "stdout",
     "output_type": "stream",
     "text": [
      "FTNT\n",
      "IT\n"
     ]
    },
    {
     "name": "stderr",
     "output_type": "stream",
     "text": [
      "/var/folders/ws/7t3gqj3100d_5thx31mhght00000gp/T/ipykernel_14025/1261142733.py:15: FutureWarning: YF.download() has changed argument auto_adjust default to True\n",
      "  data = yf.download(ticker, start='1978-01-01', interval='1mo', progress=False)\n",
      "/var/folders/ws/7t3gqj3100d_5thx31mhght00000gp/T/ipykernel_14025/1261142733.py:15: FutureWarning: YF.download() has changed argument auto_adjust default to True\n",
      "  data = yf.download(ticker, start='1978-01-01', interval='1mo', progress=False)\n"
     ]
    },
    {
     "name": "stdout",
     "output_type": "stream",
     "text": [
      "GEN\n"
     ]
    },
    {
     "name": "stderr",
     "output_type": "stream",
     "text": [
      "/var/folders/ws/7t3gqj3100d_5thx31mhght00000gp/T/ipykernel_14025/1261142733.py:15: FutureWarning: YF.download() has changed argument auto_adjust default to True\n",
      "  data = yf.download(ticker, start='1978-01-01', interval='1mo', progress=False)\n"
     ]
    },
    {
     "name": "stdout",
     "output_type": "stream",
     "text": [
      "GDDY\n"
     ]
    },
    {
     "name": "stderr",
     "output_type": "stream",
     "text": [
      "/var/folders/ws/7t3gqj3100d_5thx31mhght00000gp/T/ipykernel_14025/1261142733.py:15: FutureWarning: YF.download() has changed argument auto_adjust default to True\n",
      "  data = yf.download(ticker, start='1978-01-01', interval='1mo', progress=False)\n"
     ]
    },
    {
     "name": "stdout",
     "output_type": "stream",
     "text": [
      "HPE\n"
     ]
    },
    {
     "name": "stderr",
     "output_type": "stream",
     "text": [
      "/var/folders/ws/7t3gqj3100d_5thx31mhght00000gp/T/ipykernel_14025/1261142733.py:15: FutureWarning: YF.download() has changed argument auto_adjust default to True\n",
      "  data = yf.download(ticker, start='1978-01-01', interval='1mo', progress=False)\n"
     ]
    },
    {
     "name": "stdout",
     "output_type": "stream",
     "text": [
      "HPQ\n"
     ]
    },
    {
     "name": "stderr",
     "output_type": "stream",
     "text": [
      "/var/folders/ws/7t3gqj3100d_5thx31mhght00000gp/T/ipykernel_14025/1261142733.py:15: FutureWarning: YF.download() has changed argument auto_adjust default to True\n",
      "  data = yf.download(ticker, start='1978-01-01', interval='1mo', progress=False)\n"
     ]
    },
    {
     "name": "stdout",
     "output_type": "stream",
     "text": [
      "IBM\n"
     ]
    },
    {
     "name": "stderr",
     "output_type": "stream",
     "text": [
      "/var/folders/ws/7t3gqj3100d_5thx31mhght00000gp/T/ipykernel_14025/1261142733.py:15: FutureWarning: YF.download() has changed argument auto_adjust default to True\n",
      "  data = yf.download(ticker, start='1978-01-01', interval='1mo', progress=False)\n"
     ]
    },
    {
     "name": "stdout",
     "output_type": "stream",
     "text": [
      "INTC\n"
     ]
    },
    {
     "name": "stderr",
     "output_type": "stream",
     "text": [
      "/var/folders/ws/7t3gqj3100d_5thx31mhght00000gp/T/ipykernel_14025/1261142733.py:15: FutureWarning: YF.download() has changed argument auto_adjust default to True\n",
      "  data = yf.download(ticker, start='1978-01-01', interval='1mo', progress=False)\n"
     ]
    },
    {
     "name": "stdout",
     "output_type": "stream",
     "text": [
      "INTU\n"
     ]
    },
    {
     "name": "stderr",
     "output_type": "stream",
     "text": [
      "/var/folders/ws/7t3gqj3100d_5thx31mhght00000gp/T/ipykernel_14025/1261142733.py:15: FutureWarning: YF.download() has changed argument auto_adjust default to True\n",
      "  data = yf.download(ticker, start='1978-01-01', interval='1mo', progress=False)\n"
     ]
    },
    {
     "name": "stdout",
     "output_type": "stream",
     "text": [
      "JBL\n"
     ]
    },
    {
     "name": "stderr",
     "output_type": "stream",
     "text": [
      "/var/folders/ws/7t3gqj3100d_5thx31mhght00000gp/T/ipykernel_14025/1261142733.py:15: FutureWarning: YF.download() has changed argument auto_adjust default to True\n",
      "  data = yf.download(ticker, start='1978-01-01', interval='1mo', progress=False)\n"
     ]
    },
    {
     "name": "stdout",
     "output_type": "stream",
     "text": [
      "KEYS\n",
      "KLAC\n"
     ]
    },
    {
     "name": "stderr",
     "output_type": "stream",
     "text": [
      "/var/folders/ws/7t3gqj3100d_5thx31mhght00000gp/T/ipykernel_14025/1261142733.py:15: FutureWarning: YF.download() has changed argument auto_adjust default to True\n",
      "  data = yf.download(ticker, start='1978-01-01', interval='1mo', progress=False)\n",
      "/var/folders/ws/7t3gqj3100d_5thx31mhght00000gp/T/ipykernel_14025/1261142733.py:15: FutureWarning: YF.download() has changed argument auto_adjust default to True\n",
      "  data = yf.download(ticker, start='1978-01-01', interval='1mo', progress=False)\n"
     ]
    },
    {
     "name": "stdout",
     "output_type": "stream",
     "text": [
      "LRCX\n"
     ]
    },
    {
     "name": "stderr",
     "output_type": "stream",
     "text": [
      "/var/folders/ws/7t3gqj3100d_5thx31mhght00000gp/T/ipykernel_14025/1261142733.py:15: FutureWarning: YF.download() has changed argument auto_adjust default to True\n",
      "  data = yf.download(ticker, start='1978-01-01', interval='1mo', progress=False)\n"
     ]
    },
    {
     "name": "stdout",
     "output_type": "stream",
     "text": [
      "MCHP\n"
     ]
    },
    {
     "name": "stderr",
     "output_type": "stream",
     "text": [
      "/var/folders/ws/7t3gqj3100d_5thx31mhght00000gp/T/ipykernel_14025/1261142733.py:15: FutureWarning: YF.download() has changed argument auto_adjust default to True\n",
      "  data = yf.download(ticker, start='1978-01-01', interval='1mo', progress=False)\n"
     ]
    },
    {
     "name": "stdout",
     "output_type": "stream",
     "text": [
      "MU\n"
     ]
    },
    {
     "name": "stderr",
     "output_type": "stream",
     "text": [
      "/var/folders/ws/7t3gqj3100d_5thx31mhght00000gp/T/ipykernel_14025/1261142733.py:15: FutureWarning: YF.download() has changed argument auto_adjust default to True\n",
      "  data = yf.download(ticker, start='1978-01-01', interval='1mo', progress=False)\n"
     ]
    },
    {
     "name": "stdout",
     "output_type": "stream",
     "text": [
      "MSFT\n"
     ]
    },
    {
     "name": "stderr",
     "output_type": "stream",
     "text": [
      "/var/folders/ws/7t3gqj3100d_5thx31mhght00000gp/T/ipykernel_14025/1261142733.py:15: FutureWarning: YF.download() has changed argument auto_adjust default to True\n",
      "  data = yf.download(ticker, start='1978-01-01', interval='1mo', progress=False)\n"
     ]
    },
    {
     "name": "stdout",
     "output_type": "stream",
     "text": [
      "MPWR\n"
     ]
    },
    {
     "name": "stderr",
     "output_type": "stream",
     "text": [
      "/var/folders/ws/7t3gqj3100d_5thx31mhght00000gp/T/ipykernel_14025/1261142733.py:15: FutureWarning: YF.download() has changed argument auto_adjust default to True\n",
      "  data = yf.download(ticker, start='1978-01-01', interval='1mo', progress=False)\n"
     ]
    },
    {
     "name": "stdout",
     "output_type": "stream",
     "text": [
      "MSI\n"
     ]
    },
    {
     "name": "stderr",
     "output_type": "stream",
     "text": [
      "/var/folders/ws/7t3gqj3100d_5thx31mhght00000gp/T/ipykernel_14025/1261142733.py:15: FutureWarning: YF.download() has changed argument auto_adjust default to True\n",
      "  data = yf.download(ticker, start='1978-01-01', interval='1mo', progress=False)\n"
     ]
    },
    {
     "name": "stdout",
     "output_type": "stream",
     "text": [
      "NTAP\n"
     ]
    },
    {
     "name": "stderr",
     "output_type": "stream",
     "text": [
      "/var/folders/ws/7t3gqj3100d_5thx31mhght00000gp/T/ipykernel_14025/1261142733.py:15: FutureWarning: YF.download() has changed argument auto_adjust default to True\n",
      "  data = yf.download(ticker, start='1978-01-01', interval='1mo', progress=False)\n"
     ]
    },
    {
     "name": "stdout",
     "output_type": "stream",
     "text": [
      "NVDA\n"
     ]
    },
    {
     "name": "stderr",
     "output_type": "stream",
     "text": [
      "/var/folders/ws/7t3gqj3100d_5thx31mhght00000gp/T/ipykernel_14025/1261142733.py:15: FutureWarning: YF.download() has changed argument auto_adjust default to True\n",
      "  data = yf.download(ticker, start='1978-01-01', interval='1mo', progress=False)\n"
     ]
    },
    {
     "name": "stdout",
     "output_type": "stream",
     "text": [
      "NXPI\n",
      "ON\n"
     ]
    },
    {
     "name": "stderr",
     "output_type": "stream",
     "text": [
      "/var/folders/ws/7t3gqj3100d_5thx31mhght00000gp/T/ipykernel_14025/1261142733.py:15: FutureWarning: YF.download() has changed argument auto_adjust default to True\n",
      "  data = yf.download(ticker, start='1978-01-01', interval='1mo', progress=False)\n",
      "/var/folders/ws/7t3gqj3100d_5thx31mhght00000gp/T/ipykernel_14025/1261142733.py:15: FutureWarning: YF.download() has changed argument auto_adjust default to True\n",
      "  data = yf.download(ticker, start='1978-01-01', interval='1mo', progress=False)\n"
     ]
    },
    {
     "name": "stdout",
     "output_type": "stream",
     "text": [
      "ORCL\n"
     ]
    },
    {
     "name": "stderr",
     "output_type": "stream",
     "text": [
      "/var/folders/ws/7t3gqj3100d_5thx31mhght00000gp/T/ipykernel_14025/1261142733.py:15: FutureWarning: YF.download() has changed argument auto_adjust default to True\n",
      "  data = yf.download(ticker, start='1978-01-01', interval='1mo', progress=False)\n"
     ]
    },
    {
     "name": "stdout",
     "output_type": "stream",
     "text": [
      "PLTR\n"
     ]
    },
    {
     "name": "stderr",
     "output_type": "stream",
     "text": [
      "/var/folders/ws/7t3gqj3100d_5thx31mhght00000gp/T/ipykernel_14025/1261142733.py:15: FutureWarning: YF.download() has changed argument auto_adjust default to True\n",
      "  data = yf.download(ticker, start='1978-01-01', interval='1mo', progress=False)\n"
     ]
    },
    {
     "name": "stdout",
     "output_type": "stream",
     "text": [
      "PANW\n"
     ]
    },
    {
     "name": "stderr",
     "output_type": "stream",
     "text": [
      "/var/folders/ws/7t3gqj3100d_5thx31mhght00000gp/T/ipykernel_14025/1261142733.py:15: FutureWarning: YF.download() has changed argument auto_adjust default to True\n",
      "  data = yf.download(ticker, start='1978-01-01', interval='1mo', progress=False)\n"
     ]
    },
    {
     "name": "stdout",
     "output_type": "stream",
     "text": [
      "PTC\n",
      "QCOM\n"
     ]
    },
    {
     "name": "stderr",
     "output_type": "stream",
     "text": [
      "/var/folders/ws/7t3gqj3100d_5thx31mhght00000gp/T/ipykernel_14025/1261142733.py:15: FutureWarning: YF.download() has changed argument auto_adjust default to True\n",
      "  data = yf.download(ticker, start='1978-01-01', interval='1mo', progress=False)\n",
      "/var/folders/ws/7t3gqj3100d_5thx31mhght00000gp/T/ipykernel_14025/1261142733.py:15: FutureWarning: YF.download() has changed argument auto_adjust default to True\n",
      "  data = yf.download(ticker, start='1978-01-01', interval='1mo', progress=False)\n"
     ]
    },
    {
     "name": "stdout",
     "output_type": "stream",
     "text": [
      "ROP\n"
     ]
    },
    {
     "name": "stderr",
     "output_type": "stream",
     "text": [
      "/var/folders/ws/7t3gqj3100d_5thx31mhght00000gp/T/ipykernel_14025/1261142733.py:15: FutureWarning: YF.download() has changed argument auto_adjust default to True\n",
      "  data = yf.download(ticker, start='1978-01-01', interval='1mo', progress=False)\n"
     ]
    },
    {
     "name": "stdout",
     "output_type": "stream",
     "text": [
      "CRM\n"
     ]
    },
    {
     "name": "stderr",
     "output_type": "stream",
     "text": [
      "/var/folders/ws/7t3gqj3100d_5thx31mhght00000gp/T/ipykernel_14025/1261142733.py:15: FutureWarning: YF.download() has changed argument auto_adjust default to True\n",
      "  data = yf.download(ticker, start='1978-01-01', interval='1mo', progress=False)\n"
     ]
    },
    {
     "name": "stdout",
     "output_type": "stream",
     "text": [
      "STX\n"
     ]
    },
    {
     "name": "stderr",
     "output_type": "stream",
     "text": [
      "/var/folders/ws/7t3gqj3100d_5thx31mhght00000gp/T/ipykernel_14025/1261142733.py:15: FutureWarning: YF.download() has changed argument auto_adjust default to True\n",
      "  data = yf.download(ticker, start='1978-01-01', interval='1mo', progress=False)\n"
     ]
    },
    {
     "name": "stdout",
     "output_type": "stream",
     "text": [
      "NOW\n",
      "SWKS\n"
     ]
    },
    {
     "name": "stderr",
     "output_type": "stream",
     "text": [
      "/var/folders/ws/7t3gqj3100d_5thx31mhght00000gp/T/ipykernel_14025/1261142733.py:15: FutureWarning: YF.download() has changed argument auto_adjust default to True\n",
      "  data = yf.download(ticker, start='1978-01-01', interval='1mo', progress=False)\n",
      "/var/folders/ws/7t3gqj3100d_5thx31mhght00000gp/T/ipykernel_14025/1261142733.py:15: FutureWarning: YF.download() has changed argument auto_adjust default to True\n",
      "  data = yf.download(ticker, start='1978-01-01', interval='1mo', progress=False)\n"
     ]
    },
    {
     "name": "stdout",
     "output_type": "stream",
     "text": [
      "SMCI\n",
      "SNPS\n"
     ]
    },
    {
     "name": "stderr",
     "output_type": "stream",
     "text": [
      "/var/folders/ws/7t3gqj3100d_5thx31mhght00000gp/T/ipykernel_14025/1261142733.py:15: FutureWarning: YF.download() has changed argument auto_adjust default to True\n",
      "  data = yf.download(ticker, start='1978-01-01', interval='1mo', progress=False)\n",
      "/var/folders/ws/7t3gqj3100d_5thx31mhght00000gp/T/ipykernel_14025/1261142733.py:15: FutureWarning: YF.download() has changed argument auto_adjust default to True\n",
      "  data = yf.download(ticker, start='1978-01-01', interval='1mo', progress=False)\n"
     ]
    },
    {
     "name": "stdout",
     "output_type": "stream",
     "text": [
      "TEL\n"
     ]
    },
    {
     "name": "stderr",
     "output_type": "stream",
     "text": [
      "/var/folders/ws/7t3gqj3100d_5thx31mhght00000gp/T/ipykernel_14025/1261142733.py:15: FutureWarning: YF.download() has changed argument auto_adjust default to True\n",
      "  data = yf.download(ticker, start='1978-01-01', interval='1mo', progress=False)\n"
     ]
    },
    {
     "name": "stdout",
     "output_type": "stream",
     "text": [
      "TDY\n"
     ]
    },
    {
     "name": "stderr",
     "output_type": "stream",
     "text": [
      "/var/folders/ws/7t3gqj3100d_5thx31mhght00000gp/T/ipykernel_14025/1261142733.py:15: FutureWarning: YF.download() has changed argument auto_adjust default to True\n",
      "  data = yf.download(ticker, start='1978-01-01', interval='1mo', progress=False)\n"
     ]
    },
    {
     "name": "stdout",
     "output_type": "stream",
     "text": [
      "TER\n"
     ]
    },
    {
     "name": "stderr",
     "output_type": "stream",
     "text": [
      "/var/folders/ws/7t3gqj3100d_5thx31mhght00000gp/T/ipykernel_14025/1261142733.py:15: FutureWarning: YF.download() has changed argument auto_adjust default to True\n",
      "  data = yf.download(ticker, start='1978-01-01', interval='1mo', progress=False)\n"
     ]
    },
    {
     "name": "stdout",
     "output_type": "stream",
     "text": [
      "TXN\n"
     ]
    },
    {
     "name": "stderr",
     "output_type": "stream",
     "text": [
      "/var/folders/ws/7t3gqj3100d_5thx31mhght00000gp/T/ipykernel_14025/1261142733.py:15: FutureWarning: YF.download() has changed argument auto_adjust default to True\n",
      "  data = yf.download(ticker, start='1978-01-01', interval='1mo', progress=False)\n"
     ]
    },
    {
     "name": "stdout",
     "output_type": "stream",
     "text": [
      "TRMB\n",
      "TYL\n"
     ]
    },
    {
     "name": "stderr",
     "output_type": "stream",
     "text": [
      "/var/folders/ws/7t3gqj3100d_5thx31mhght00000gp/T/ipykernel_14025/1261142733.py:15: FutureWarning: YF.download() has changed argument auto_adjust default to True\n",
      "  data = yf.download(ticker, start='1978-01-01', interval='1mo', progress=False)\n",
      "/var/folders/ws/7t3gqj3100d_5thx31mhght00000gp/T/ipykernel_14025/1261142733.py:15: FutureWarning: YF.download() has changed argument auto_adjust default to True\n",
      "  data = yf.download(ticker, start='1978-01-01', interval='1mo', progress=False)\n"
     ]
    },
    {
     "name": "stdout",
     "output_type": "stream",
     "text": [
      "VRSN\n"
     ]
    },
    {
     "name": "stderr",
     "output_type": "stream",
     "text": [
      "/var/folders/ws/7t3gqj3100d_5thx31mhght00000gp/T/ipykernel_14025/1261142733.py:15: FutureWarning: YF.download() has changed argument auto_adjust default to True\n",
      "  data = yf.download(ticker, start='1978-01-01', interval='1mo', progress=False)\n"
     ]
    },
    {
     "name": "stdout",
     "output_type": "stream",
     "text": [
      "WDC\n",
      "WDAY\n"
     ]
    },
    {
     "name": "stderr",
     "output_type": "stream",
     "text": [
      "/var/folders/ws/7t3gqj3100d_5thx31mhght00000gp/T/ipykernel_14025/1261142733.py:15: FutureWarning: YF.download() has changed argument auto_adjust default to True\n",
      "  data = yf.download(ticker, start='1978-01-01', interval='1mo', progress=False)\n",
      "/var/folders/ws/7t3gqj3100d_5thx31mhght00000gp/T/ipykernel_14025/1261142733.py:15: FutureWarning: YF.download() has changed argument auto_adjust default to True\n",
      "  data = yf.download(ticker, start='1978-01-01', interval='1mo', progress=False)\n"
     ]
    },
    {
     "name": "stdout",
     "output_type": "stream",
     "text": [
      "ZBRA\n",
      "hi\n"
     ]
    },
    {
     "name": "stderr",
     "output_type": "stream",
     "text": [
      "/var/folders/ws/7t3gqj3100d_5thx31mhght00000gp/T/ipykernel_14025/1261142733.py:15: FutureWarning: YF.download() has changed argument auto_adjust default to True\n",
      "  data = yf.download(ticker, start='1978-01-01', interval='1mo', progress=False)\n"
     ]
    },
    {
     "ename": "NameError",
     "evalue": "name 'all_highs' is not defined",
     "output_type": "error",
     "traceback": [
      "\u001b[0;31m---------------------------------------------------------------------------\u001b[0m",
      "\u001b[0;31mNameError\u001b[0m                                 Traceback (most recent call last)",
      "Cell \u001b[0;32mIn[1], line 27\u001b[0m\n\u001b[1;32m     25\u001b[0m \u001b[38;5;66;03m# Convert to monthly highs, with NaN if the company didn’t exist yet\u001b[39;00m\n\u001b[1;32m     26\u001b[0m \u001b[38;5;28mprint\u001b[39m(\u001b[38;5;124m\"\u001b[39m\u001b[38;5;124mhi\u001b[39m\u001b[38;5;124m\"\u001b[39m)\n\u001b[0;32m---> 27\u001b[0m all_lows \u001b[38;5;241m=\u001b[39m all_highs\u001b[38;5;241m.\u001b[39msort_index()\n\u001b[1;32m     28\u001b[0m all_lows\u001b[38;5;241m.\u001b[39mindex\u001b[38;5;241m.\u001b[39mname \u001b[38;5;241m=\u001b[39m \u001b[38;5;124m'\u001b[39m\u001b[38;5;124mDate\u001b[39m\u001b[38;5;124m'\u001b[39m\n",
      "\u001b[0;31mNameError\u001b[0m: name 'all_highs' is not defined"
     ]
    }
   ],
   "source": [
    "import pandas as pd\n",
    "import yfinance as yf\n",
    "\n",
    "# Read tickers from the first row of your Excel file\n",
    "file_path = 'SP 500 List.csv'\n",
    "tickers = pd.read_csv(file_path, header=None).iloc[0].dropna().tolist()\n",
    "\n",
    "# Create an empty DataFrame to hold monthly highs\n",
    "all_lows = pd.DataFrame()\n",
    "\n",
    "# Loop through each ticker and get monthly high data\n",
    "for ticker in tickers:\n",
    "    print(ticker)\n",
    "    try:\n",
    "        data = yf.download(ticker, start='1978-01-01', interval='1mo', progress=False)\n",
    "        \n",
    "        # Only keep the \"High\" column and rename it to the ticker\n",
    "        data = data[['Low']].rename(columns={'Low': ticker})\n",
    "        \n",
    "        # Combine into one dataframe\n",
    "        all_lows = pd.concat([all_lows, data[ticker]], axis=1)\n",
    "    except Exception as e:\n",
    "        print(f\"Error downloading {ticker}: {e}\")\n",
    "\n",
    "# Convert to monthly highs, with NaN if the company didn’t exist yet\n",
    "print(\"hi\")\n",
    "all_lows = all_lows.sort_index()\n",
    "all_lows.index.name = 'Date'"
   ]
  },
  {
   "cell_type": "code",
   "execution_count": 2,
   "id": "16d99e86",
   "metadata": {},
   "outputs": [],
   "source": [
    "all_lows = all_lows.sort_index()\n",
    "all_lows.index.name = 'Date'"
   ]
  },
  {
   "cell_type": "code",
   "execution_count": 4,
   "id": "b4559bcb",
   "metadata": {},
   "outputs": [],
   "source": [
    "all_lows.to_csv('Lows.csv')"
   ]
  },
  {
   "cell_type": "code",
   "execution_count": null,
   "id": "32869b3d",
   "metadata": {},
   "outputs": [],
   "source": []
  }
 ],
 "metadata": {
  "kernelspec": {
   "display_name": "Python 3 (ipykernel)",
   "language": "python",
   "name": "python3"
  },
  "language_info": {
   "codemirror_mode": {
    "name": "ipython",
    "version": 3
   },
   "file_extension": ".py",
   "mimetype": "text/x-python",
   "name": "python",
   "nbconvert_exporter": "python",
   "pygments_lexer": "ipython3",
   "version": "3.11.4"
  }
 },
 "nbformat": 4,
 "nbformat_minor": 5
}
