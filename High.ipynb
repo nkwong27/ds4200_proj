{
 "cells": [
  {
   "cell_type": "code",
   "execution_count": 1,
   "id": "3aee1964",
   "metadata": {},
   "outputs": [
    {
     "name": "stderr",
     "output_type": "stream",
     "text": [
      "/Users/EltonSchool/anaconda3/lib/python3.11/site-packages/pandas/core/arrays/masked.py:61: UserWarning: Pandas requires version '1.3.6' or newer of 'bottleneck' (version '1.3.5' currently installed).\n",
      "  from pandas.core import (\n",
      "/var/folders/ws/7t3gqj3100d_5thx31mhght00000gp/T/ipykernel_33413/1086680570.py:14: FutureWarning: YF.download() has changed argument auto_adjust default to True\n",
      "  data = yf.download(ticker, start='2000-01-01', interval='1mo', progress=False)\n",
      "/var/folders/ws/7t3gqj3100d_5thx31mhght00000gp/T/ipykernel_33413/1086680570.py:14: FutureWarning: YF.download() has changed argument auto_adjust default to True\n",
      "  data = yf.download(ticker, start='2000-01-01', interval='1mo', progress=False)\n",
      "/var/folders/ws/7t3gqj3100d_5thx31mhght00000gp/T/ipykernel_33413/1086680570.py:14: FutureWarning: YF.download() has changed argument auto_adjust default to True\n",
      "  data = yf.download(ticker, start='2000-01-01', interval='1mo', progress=False)\n",
      "/var/folders/ws/7t3gqj3100d_5thx31mhght00000gp/T/ipykernel_33413/1086680570.py:14: FutureWarning: YF.download() has changed argument auto_adjust default to True\n",
      "  data = yf.download(ticker, start='2000-01-01', interval='1mo', progress=False)\n",
      "/var/folders/ws/7t3gqj3100d_5thx31mhght00000gp/T/ipykernel_33413/1086680570.py:14: FutureWarning: YF.download() has changed argument auto_adjust default to True\n",
      "  data = yf.download(ticker, start='2000-01-01', interval='1mo', progress=False)\n",
      "/var/folders/ws/7t3gqj3100d_5thx31mhght00000gp/T/ipykernel_33413/1086680570.py:14: FutureWarning: YF.download() has changed argument auto_adjust default to True\n",
      "  data = yf.download(ticker, start='2000-01-01', interval='1mo', progress=False)\n",
      "/var/folders/ws/7t3gqj3100d_5thx31mhght00000gp/T/ipykernel_33413/1086680570.py:14: FutureWarning: YF.download() has changed argument auto_adjust default to True\n",
      "  data = yf.download(ticker, start='2000-01-01', interval='1mo', progress=False)\n",
      "/var/folders/ws/7t3gqj3100d_5thx31mhght00000gp/T/ipykernel_33413/1086680570.py:14: FutureWarning: YF.download() has changed argument auto_adjust default to True\n",
      "  data = yf.download(ticker, start='2000-01-01', interval='1mo', progress=False)\n",
      "/var/folders/ws/7t3gqj3100d_5thx31mhght00000gp/T/ipykernel_33413/1086680570.py:14: FutureWarning: YF.download() has changed argument auto_adjust default to True\n",
      "  data = yf.download(ticker, start='2000-01-01', interval='1mo', progress=False)\n",
      "/var/folders/ws/7t3gqj3100d_5thx31mhght00000gp/T/ipykernel_33413/1086680570.py:14: FutureWarning: YF.download() has changed argument auto_adjust default to True\n",
      "  data = yf.download(ticker, start='2000-01-01', interval='1mo', progress=False)\n",
      "/var/folders/ws/7t3gqj3100d_5thx31mhght00000gp/T/ipykernel_33413/1086680570.py:14: FutureWarning: YF.download() has changed argument auto_adjust default to True\n",
      "  data = yf.download(ticker, start='2000-01-01', interval='1mo', progress=False)\n",
      "/var/folders/ws/7t3gqj3100d_5thx31mhght00000gp/T/ipykernel_33413/1086680570.py:14: FutureWarning: YF.download() has changed argument auto_adjust default to True\n",
      "  data = yf.download(ticker, start='2000-01-01', interval='1mo', progress=False)\n",
      "/var/folders/ws/7t3gqj3100d_5thx31mhght00000gp/T/ipykernel_33413/1086680570.py:14: FutureWarning: YF.download() has changed argument auto_adjust default to True\n",
      "  data = yf.download(ticker, start='2000-01-01', interval='1mo', progress=False)\n",
      "/var/folders/ws/7t3gqj3100d_5thx31mhght00000gp/T/ipykernel_33413/1086680570.py:14: FutureWarning: YF.download() has changed argument auto_adjust default to True\n",
      "  data = yf.download(ticker, start='2000-01-01', interval='1mo', progress=False)\n",
      "/var/folders/ws/7t3gqj3100d_5thx31mhght00000gp/T/ipykernel_33413/1086680570.py:14: FutureWarning: YF.download() has changed argument auto_adjust default to True\n",
      "  data = yf.download(ticker, start='2000-01-01', interval='1mo', progress=False)\n",
      "/var/folders/ws/7t3gqj3100d_5thx31mhght00000gp/T/ipykernel_33413/1086680570.py:14: FutureWarning: YF.download() has changed argument auto_adjust default to True\n",
      "  data = yf.download(ticker, start='2000-01-01', interval='1mo', progress=False)\n",
      "/var/folders/ws/7t3gqj3100d_5thx31mhght00000gp/T/ipykernel_33413/1086680570.py:14: FutureWarning: YF.download() has changed argument auto_adjust default to True\n",
      "  data = yf.download(ticker, start='2000-01-01', interval='1mo', progress=False)\n",
      "/var/folders/ws/7t3gqj3100d_5thx31mhght00000gp/T/ipykernel_33413/1086680570.py:14: FutureWarning: YF.download() has changed argument auto_adjust default to True\n",
      "  data = yf.download(ticker, start='2000-01-01', interval='1mo', progress=False)\n",
      "/var/folders/ws/7t3gqj3100d_5thx31mhght00000gp/T/ipykernel_33413/1086680570.py:14: FutureWarning: YF.download() has changed argument auto_adjust default to True\n",
      "  data = yf.download(ticker, start='2000-01-01', interval='1mo', progress=False)\n",
      "/var/folders/ws/7t3gqj3100d_5thx31mhght00000gp/T/ipykernel_33413/1086680570.py:14: FutureWarning: YF.download() has changed argument auto_adjust default to True\n",
      "  data = yf.download(ticker, start='2000-01-01', interval='1mo', progress=False)\n",
      "/var/folders/ws/7t3gqj3100d_5thx31mhght00000gp/T/ipykernel_33413/1086680570.py:14: FutureWarning: YF.download() has changed argument auto_adjust default to True\n",
      "  data = yf.download(ticker, start='2000-01-01', interval='1mo', progress=False)\n",
      "/var/folders/ws/7t3gqj3100d_5thx31mhght00000gp/T/ipykernel_33413/1086680570.py:14: FutureWarning: YF.download() has changed argument auto_adjust default to True\n",
      "  data = yf.download(ticker, start='2000-01-01', interval='1mo', progress=False)\n",
      "/var/folders/ws/7t3gqj3100d_5thx31mhght00000gp/T/ipykernel_33413/1086680570.py:14: FutureWarning: YF.download() has changed argument auto_adjust default to True\n",
      "  data = yf.download(ticker, start='2000-01-01', interval='1mo', progress=False)\n",
      "/var/folders/ws/7t3gqj3100d_5thx31mhght00000gp/T/ipykernel_33413/1086680570.py:14: FutureWarning: YF.download() has changed argument auto_adjust default to True\n",
      "  data = yf.download(ticker, start='2000-01-01', interval='1mo', progress=False)\n",
      "/var/folders/ws/7t3gqj3100d_5thx31mhght00000gp/T/ipykernel_33413/1086680570.py:14: FutureWarning: YF.download() has changed argument auto_adjust default to True\n",
      "  data = yf.download(ticker, start='2000-01-01', interval='1mo', progress=False)\n",
      "/var/folders/ws/7t3gqj3100d_5thx31mhght00000gp/T/ipykernel_33413/1086680570.py:14: FutureWarning: YF.download() has changed argument auto_adjust default to True\n",
      "  data = yf.download(ticker, start='2000-01-01', interval='1mo', progress=False)\n",
      "/var/folders/ws/7t3gqj3100d_5thx31mhght00000gp/T/ipykernel_33413/1086680570.py:14: FutureWarning: YF.download() has changed argument auto_adjust default to True\n",
      "  data = yf.download(ticker, start='2000-01-01', interval='1mo', progress=False)\n",
      "/var/folders/ws/7t3gqj3100d_5thx31mhght00000gp/T/ipykernel_33413/1086680570.py:14: FutureWarning: YF.download() has changed argument auto_adjust default to True\n",
      "  data = yf.download(ticker, start='2000-01-01', interval='1mo', progress=False)\n",
      "/var/folders/ws/7t3gqj3100d_5thx31mhght00000gp/T/ipykernel_33413/1086680570.py:14: FutureWarning: YF.download() has changed argument auto_adjust default to True\n",
      "  data = yf.download(ticker, start='2000-01-01', interval='1mo', progress=False)\n",
      "/var/folders/ws/7t3gqj3100d_5thx31mhght00000gp/T/ipykernel_33413/1086680570.py:14: FutureWarning: YF.download() has changed argument auto_adjust default to True\n",
      "  data = yf.download(ticker, start='2000-01-01', interval='1mo', progress=False)\n",
      "/var/folders/ws/7t3gqj3100d_5thx31mhght00000gp/T/ipykernel_33413/1086680570.py:14: FutureWarning: YF.download() has changed argument auto_adjust default to True\n",
      "  data = yf.download(ticker, start='2000-01-01', interval='1mo', progress=False)\n",
      "/var/folders/ws/7t3gqj3100d_5thx31mhght00000gp/T/ipykernel_33413/1086680570.py:14: FutureWarning: YF.download() has changed argument auto_adjust default to True\n",
      "  data = yf.download(ticker, start='2000-01-01', interval='1mo', progress=False)\n",
      "/var/folders/ws/7t3gqj3100d_5thx31mhght00000gp/T/ipykernel_33413/1086680570.py:14: FutureWarning: YF.download() has changed argument auto_adjust default to True\n",
      "  data = yf.download(ticker, start='2000-01-01', interval='1mo', progress=False)\n"
     ]
    },
    {
     "name": "stderr",
     "output_type": "stream",
     "text": [
      "/var/folders/ws/7t3gqj3100d_5thx31mhght00000gp/T/ipykernel_33413/1086680570.py:14: FutureWarning: YF.download() has changed argument auto_adjust default to True\n",
      "  data = yf.download(ticker, start='2000-01-01', interval='1mo', progress=False)\n",
      "/var/folders/ws/7t3gqj3100d_5thx31mhght00000gp/T/ipykernel_33413/1086680570.py:14: FutureWarning: YF.download() has changed argument auto_adjust default to True\n",
      "  data = yf.download(ticker, start='2000-01-01', interval='1mo', progress=False)\n",
      "/var/folders/ws/7t3gqj3100d_5thx31mhght00000gp/T/ipykernel_33413/1086680570.py:14: FutureWarning: YF.download() has changed argument auto_adjust default to True\n",
      "  data = yf.download(ticker, start='2000-01-01', interval='1mo', progress=False)\n",
      "/var/folders/ws/7t3gqj3100d_5thx31mhght00000gp/T/ipykernel_33413/1086680570.py:14: FutureWarning: YF.download() has changed argument auto_adjust default to True\n",
      "  data = yf.download(ticker, start='2000-01-01', interval='1mo', progress=False)\n",
      "/var/folders/ws/7t3gqj3100d_5thx31mhght00000gp/T/ipykernel_33413/1086680570.py:14: FutureWarning: YF.download() has changed argument auto_adjust default to True\n",
      "  data = yf.download(ticker, start='2000-01-01', interval='1mo', progress=False)\n",
      "/var/folders/ws/7t3gqj3100d_5thx31mhght00000gp/T/ipykernel_33413/1086680570.py:14: FutureWarning: YF.download() has changed argument auto_adjust default to True\n",
      "  data = yf.download(ticker, start='2000-01-01', interval='1mo', progress=False)\n",
      "/var/folders/ws/7t3gqj3100d_5thx31mhght00000gp/T/ipykernel_33413/1086680570.py:14: FutureWarning: YF.download() has changed argument auto_adjust default to True\n",
      "  data = yf.download(ticker, start='2000-01-01', interval='1mo', progress=False)\n",
      "/var/folders/ws/7t3gqj3100d_5thx31mhght00000gp/T/ipykernel_33413/1086680570.py:14: FutureWarning: YF.download() has changed argument auto_adjust default to True\n",
      "  data = yf.download(ticker, start='2000-01-01', interval='1mo', progress=False)\n",
      "/var/folders/ws/7t3gqj3100d_5thx31mhght00000gp/T/ipykernel_33413/1086680570.py:14: FutureWarning: YF.download() has changed argument auto_adjust default to True\n",
      "  data = yf.download(ticker, start='2000-01-01', interval='1mo', progress=False)\n",
      "/var/folders/ws/7t3gqj3100d_5thx31mhght00000gp/T/ipykernel_33413/1086680570.py:14: FutureWarning: YF.download() has changed argument auto_adjust default to True\n",
      "  data = yf.download(ticker, start='2000-01-01', interval='1mo', progress=False)\n",
      "/var/folders/ws/7t3gqj3100d_5thx31mhght00000gp/T/ipykernel_33413/1086680570.py:14: FutureWarning: YF.download() has changed argument auto_adjust default to True\n",
      "  data = yf.download(ticker, start='2000-01-01', interval='1mo', progress=False)\n",
      "/var/folders/ws/7t3gqj3100d_5thx31mhght00000gp/T/ipykernel_33413/1086680570.py:14: FutureWarning: YF.download() has changed argument auto_adjust default to True\n",
      "  data = yf.download(ticker, start='2000-01-01', interval='1mo', progress=False)\n",
      "/var/folders/ws/7t3gqj3100d_5thx31mhght00000gp/T/ipykernel_33413/1086680570.py:14: FutureWarning: YF.download() has changed argument auto_adjust default to True\n",
      "  data = yf.download(ticker, start='2000-01-01', interval='1mo', progress=False)\n",
      "/var/folders/ws/7t3gqj3100d_5thx31mhght00000gp/T/ipykernel_33413/1086680570.py:14: FutureWarning: YF.download() has changed argument auto_adjust default to True\n",
      "  data = yf.download(ticker, start='2000-01-01', interval='1mo', progress=False)\n",
      "/var/folders/ws/7t3gqj3100d_5thx31mhght00000gp/T/ipykernel_33413/1086680570.py:14: FutureWarning: YF.download() has changed argument auto_adjust default to True\n",
      "  data = yf.download(ticker, start='2000-01-01', interval='1mo', progress=False)\n",
      "/var/folders/ws/7t3gqj3100d_5thx31mhght00000gp/T/ipykernel_33413/1086680570.py:14: FutureWarning: YF.download() has changed argument auto_adjust default to True\n",
      "  data = yf.download(ticker, start='2000-01-01', interval='1mo', progress=False)\n",
      "/var/folders/ws/7t3gqj3100d_5thx31mhght00000gp/T/ipykernel_33413/1086680570.py:14: FutureWarning: YF.download() has changed argument auto_adjust default to True\n",
      "  data = yf.download(ticker, start='2000-01-01', interval='1mo', progress=False)\n",
      "/var/folders/ws/7t3gqj3100d_5thx31mhght00000gp/T/ipykernel_33413/1086680570.py:14: FutureWarning: YF.download() has changed argument auto_adjust default to True\n",
      "  data = yf.download(ticker, start='2000-01-01', interval='1mo', progress=False)\n",
      "/var/folders/ws/7t3gqj3100d_5thx31mhght00000gp/T/ipykernel_33413/1086680570.py:14: FutureWarning: YF.download() has changed argument auto_adjust default to True\n",
      "  data = yf.download(ticker, start='2000-01-01', interval='1mo', progress=False)\n",
      "/var/folders/ws/7t3gqj3100d_5thx31mhght00000gp/T/ipykernel_33413/1086680570.py:14: FutureWarning: YF.download() has changed argument auto_adjust default to True\n",
      "  data = yf.download(ticker, start='2000-01-01', interval='1mo', progress=False)\n",
      "/var/folders/ws/7t3gqj3100d_5thx31mhght00000gp/T/ipykernel_33413/1086680570.py:14: FutureWarning: YF.download() has changed argument auto_adjust default to True\n",
      "  data = yf.download(ticker, start='2000-01-01', interval='1mo', progress=False)\n",
      "/var/folders/ws/7t3gqj3100d_5thx31mhght00000gp/T/ipykernel_33413/1086680570.py:14: FutureWarning: YF.download() has changed argument auto_adjust default to True\n",
      "  data = yf.download(ticker, start='2000-01-01', interval='1mo', progress=False)\n",
      "/var/folders/ws/7t3gqj3100d_5thx31mhght00000gp/T/ipykernel_33413/1086680570.py:14: FutureWarning: YF.download() has changed argument auto_adjust default to True\n",
      "  data = yf.download(ticker, start='2000-01-01', interval='1mo', progress=False)\n",
      "/var/folders/ws/7t3gqj3100d_5thx31mhght00000gp/T/ipykernel_33413/1086680570.py:14: FutureWarning: YF.download() has changed argument auto_adjust default to True\n",
      "  data = yf.download(ticker, start='2000-01-01', interval='1mo', progress=False)\n",
      "/var/folders/ws/7t3gqj3100d_5thx31mhght00000gp/T/ipykernel_33413/1086680570.py:14: FutureWarning: YF.download() has changed argument auto_adjust default to True\n",
      "  data = yf.download(ticker, start='2000-01-01', interval='1mo', progress=False)\n",
      "/var/folders/ws/7t3gqj3100d_5thx31mhght00000gp/T/ipykernel_33413/1086680570.py:14: FutureWarning: YF.download() has changed argument auto_adjust default to True\n",
      "  data = yf.download(ticker, start='2000-01-01', interval='1mo', progress=False)\n",
      "/var/folders/ws/7t3gqj3100d_5thx31mhght00000gp/T/ipykernel_33413/1086680570.py:14: FutureWarning: YF.download() has changed argument auto_adjust default to True\n",
      "  data = yf.download(ticker, start='2000-01-01', interval='1mo', progress=False)\n",
      "/var/folders/ws/7t3gqj3100d_5thx31mhght00000gp/T/ipykernel_33413/1086680570.py:14: FutureWarning: YF.download() has changed argument auto_adjust default to True\n",
      "  data = yf.download(ticker, start='2000-01-01', interval='1mo', progress=False)\n",
      "/var/folders/ws/7t3gqj3100d_5thx31mhght00000gp/T/ipykernel_33413/1086680570.py:14: FutureWarning: YF.download() has changed argument auto_adjust default to True\n",
      "  data = yf.download(ticker, start='2000-01-01', interval='1mo', progress=False)\n",
      "/var/folders/ws/7t3gqj3100d_5thx31mhght00000gp/T/ipykernel_33413/1086680570.py:14: FutureWarning: YF.download() has changed argument auto_adjust default to True\n",
      "  data = yf.download(ticker, start='2000-01-01', interval='1mo', progress=False)\n",
      "/var/folders/ws/7t3gqj3100d_5thx31mhght00000gp/T/ipykernel_33413/1086680570.py:14: FutureWarning: YF.download() has changed argument auto_adjust default to True\n",
      "  data = yf.download(ticker, start='2000-01-01', interval='1mo', progress=False)\n",
      "/var/folders/ws/7t3gqj3100d_5thx31mhght00000gp/T/ipykernel_33413/1086680570.py:14: FutureWarning: YF.download() has changed argument auto_adjust default to True\n",
      "  data = yf.download(ticker, start='2000-01-01', interval='1mo', progress=False)\n",
      "/var/folders/ws/7t3gqj3100d_5thx31mhght00000gp/T/ipykernel_33413/1086680570.py:14: FutureWarning: YF.download() has changed argument auto_adjust default to True\n",
      "  data = yf.download(ticker, start='2000-01-01', interval='1mo', progress=False)\n",
      "/var/folders/ws/7t3gqj3100d_5thx31mhght00000gp/T/ipykernel_33413/1086680570.py:14: FutureWarning: YF.download() has changed argument auto_adjust default to True\n",
      "  data = yf.download(ticker, start='2000-01-01', interval='1mo', progress=False)\n"
     ]
    },
    {
     "name": "stderr",
     "output_type": "stream",
     "text": [
      "/var/folders/ws/7t3gqj3100d_5thx31mhght00000gp/T/ipykernel_33413/1086680570.py:14: FutureWarning: YF.download() has changed argument auto_adjust default to True\n",
      "  data = yf.download(ticker, start='2000-01-01', interval='1mo', progress=False)\n"
     ]
    },
    {
     "name": "stdout",
     "output_type": "stream",
     "text": [
      "hi\n"
     ]
    }
   ],
   "source": [
    "import pandas as pd\n",
    "import yfinance as yf\n",
    "\n",
    "# Read tickers from the first row of your Excel file\n",
    "file_path = 'SP 500 List.csv'\n",
    "tickers = pd.read_csv(file_path, header=None).iloc[0].dropna().tolist()\n",
    "\n",
    "# Create an empty DataFrame to hold monthly highs\n",
    "all_highs = pd.DataFrame()\n",
    "\n",
    "# Loop through each ticker and get monthly high data\n",
    "for ticker in tickers:\n",
    "    try:\n",
    "        data = yf.download(ticker, start='2000-01-01', interval='1mo', progress=False)\n",
    "        \n",
    "        # Only keep the \"High\" column and rename it to the ticker\n",
    "        data = data[['High']].rename(columns={'High': ticker})\n",
    "        \n",
    "        # Combine into one dataframe\n",
    "        all_highs = pd.concat([all_highs, data[ticker]], axis=1)\n",
    "    except Exception as e:\n",
    "        print(f\"Error downloading {ticker}: {e}\")\n",
    "\n",
    "# Convert to monthly highs, with NaN if the company didn’t exist yet\n",
    "print(\"hi\")\n",
    "all_highs = all_highs.sort_index()\n",
    "all_highs.index.name = 'Date'"
   ]
  },
  {
   "cell_type": "code",
   "execution_count": 2,
   "id": "cbf03e6f",
   "metadata": {},
   "outputs": [
    {
     "data": {
      "text/html": [
       "<div>\n",
       "<style scoped>\n",
       "    .dataframe tbody tr th:only-of-type {\n",
       "        vertical-align: middle;\n",
       "    }\n",
       "\n",
       "    .dataframe tbody tr th {\n",
       "        vertical-align: top;\n",
       "    }\n",
       "\n",
       "    .dataframe thead th {\n",
       "        text-align: right;\n",
       "    }\n",
       "</style>\n",
       "<table border=\"1\" class=\"dataframe\">\n",
       "  <thead>\n",
       "    <tr style=\"text-align: right;\">\n",
       "      <th>Ticker</th>\n",
       "      <th>ACN</th>\n",
       "      <th>ADBE</th>\n",
       "      <th>AMD</th>\n",
       "      <th>AKAM</th>\n",
       "      <th>APH</th>\n",
       "      <th>ADI</th>\n",
       "      <th>AAPL</th>\n",
       "      <th>AMAT</th>\n",
       "      <th>APP</th>\n",
       "      <th>ANET</th>\n",
       "      <th>...</th>\n",
       "      <th>TEL</th>\n",
       "      <th>TDY</th>\n",
       "      <th>TER</th>\n",
       "      <th>TXN</th>\n",
       "      <th>TRMB</th>\n",
       "      <th>TYL</th>\n",
       "      <th>VRSN</th>\n",
       "      <th>WDC</th>\n",
       "      <th>WDAY</th>\n",
       "      <th>ZBRA</th>\n",
       "    </tr>\n",
       "    <tr>\n",
       "      <th>Date</th>\n",
       "      <th></th>\n",
       "      <th></th>\n",
       "      <th></th>\n",
       "      <th></th>\n",
       "      <th></th>\n",
       "      <th></th>\n",
       "      <th></th>\n",
       "      <th></th>\n",
       "      <th></th>\n",
       "      <th></th>\n",
       "      <th></th>\n",
       "      <th></th>\n",
       "      <th></th>\n",
       "      <th></th>\n",
       "      <th></th>\n",
       "      <th></th>\n",
       "      <th></th>\n",
       "      <th></th>\n",
       "      <th></th>\n",
       "      <th></th>\n",
       "      <th></th>\n",
       "    </tr>\n",
       "  </thead>\n",
       "  <tbody>\n",
       "    <tr>\n",
       "      <th>2000-01-01</th>\n",
       "      <td>NaN</td>\n",
       "      <td>16.755620</td>\n",
       "      <td>22.562500</td>\n",
       "      <td>345.500000</td>\n",
       "      <td>1.101713</td>\n",
       "      <td>32.370038</td>\n",
       "      <td>0.911861</td>\n",
       "      <td>26.605318</td>\n",
       "      <td>NaN</td>\n",
       "      <td>NaN</td>\n",
       "      <td>...</td>\n",
       "      <td>NaN</td>\n",
       "      <td>10.062500</td>\n",
       "      <td>72.082233</td>\n",
       "      <td>36.319963</td>\n",
       "      <td>4.416667</td>\n",
       "      <td>6.250000</td>\n",
       "      <td>181.811070</td>\n",
       "      <td>4.045727</td>\n",
       "      <td>NaN</td>\n",
       "      <td>28.833332</td>\n",
       "    </tr>\n",
       "    <tr>\n",
       "      <th>2000-02-01</th>\n",
       "      <td>NaN</td>\n",
       "      <td>26.467673</td>\n",
       "      <td>22.750000</td>\n",
       "      <td>275.375000</td>\n",
       "      <td>1.115314</td>\n",
       "      <td>51.457559</td>\n",
       "      <td>0.900135</td>\n",
       "      <td>34.430393</td>\n",
       "      <td>NaN</td>\n",
       "      <td>NaN</td>\n",
       "      <td>...</td>\n",
       "      <td>NaN</td>\n",
       "      <td>10.250000</td>\n",
       "      <td>82.445494</td>\n",
       "      <td>52.471457</td>\n",
       "      <td>4.041667</td>\n",
       "      <td>5.500000</td>\n",
       "      <td>218.278844</td>\n",
       "      <td>3.365137</td>\n",
       "      <td>NaN</td>\n",
       "      <td>31.500000</td>\n",
       "    </tr>\n",
       "    <tr>\n",
       "      <th>2000-03-01</th>\n",
       "      <td>NaN</td>\n",
       "      <td>28.794843</td>\n",
       "      <td>30.187500</td>\n",
       "      <td>305.937500</td>\n",
       "      <td>1.417944</td>\n",
       "      <td>58.242980</td>\n",
       "      <td>1.128569</td>\n",
       "      <td>39.919296</td>\n",
       "      <td>NaN</td>\n",
       "      <td>NaN</td>\n",
       "      <td>...</td>\n",
       "      <td>NaN</td>\n",
       "      <td>28.500000</td>\n",
       "      <td>87.454392</td>\n",
       "      <td>61.709573</td>\n",
       "      <td>5.239583</td>\n",
       "      <td>6.187500</td>\n",
       "      <td>218.278839</td>\n",
       "      <td>5.331283</td>\n",
       "      <td>NaN</td>\n",
       "      <td>31.138889</td>\n",
       "    </tr>\n",
       "    <tr>\n",
       "      <th>2000-04-01</th>\n",
       "      <td>NaN</td>\n",
       "      <td>31.750373</td>\n",
       "      <td>44.437500</td>\n",
       "      <td>157.875000</td>\n",
       "      <td>1.740978</td>\n",
       "      <td>50.515666</td>\n",
       "      <td>1.046952</td>\n",
       "      <td>41.733821</td>\n",
       "      <td>NaN</td>\n",
       "      <td>NaN</td>\n",
       "      <td>...</td>\n",
       "      <td>NaN</td>\n",
       "      <td>20.000000</td>\n",
       "      <td>103.172000</td>\n",
       "      <td>52.258901</td>\n",
       "      <td>4.666667</td>\n",
       "      <td>8.937500</td>\n",
       "      <td>151.570780</td>\n",
       "      <td>4.764127</td>\n",
       "      <td>NaN</td>\n",
       "      <td>25.805555</td>\n",
       "    </tr>\n",
       "    <tr>\n",
       "      <th>2000-05-01</th>\n",
       "      <td>NaN</td>\n",
       "      <td>32.526287</td>\n",
       "      <td>46.437500</td>\n",
       "      <td>113.375000</td>\n",
       "      <td>1.693373</td>\n",
       "      <td>49.054799</td>\n",
       "      <td>0.947510</td>\n",
       "      <td>38.014068</td>\n",
       "      <td>NaN</td>\n",
       "      <td>NaN</td>\n",
       "      <td>...</td>\n",
       "      <td>NaN</td>\n",
       "      <td>19.062500</td>\n",
       "      <td>106.338534</td>\n",
       "      <td>51.172048</td>\n",
       "      <td>7.708333</td>\n",
       "      <td>5.750000</td>\n",
       "      <td>124.127616</td>\n",
       "      <td>4.348209</td>\n",
       "      <td>NaN</td>\n",
       "      <td>25.777779</td>\n",
       "    </tr>\n",
       "    <tr>\n",
       "      <th>...</th>\n",
       "      <td>...</td>\n",
       "      <td>...</td>\n",
       "      <td>...</td>\n",
       "      <td>...</td>\n",
       "      <td>...</td>\n",
       "      <td>...</td>\n",
       "      <td>...</td>\n",
       "      <td>...</td>\n",
       "      <td>...</td>\n",
       "      <td>...</td>\n",
       "      <td>...</td>\n",
       "      <td>...</td>\n",
       "      <td>...</td>\n",
       "      <td>...</td>\n",
       "      <td>...</td>\n",
       "      <td>...</td>\n",
       "      <td>...</td>\n",
       "      <td>...</td>\n",
       "      <td>...</td>\n",
       "      <td>...</td>\n",
       "      <td>...</td>\n",
       "    </tr>\n",
       "    <tr>\n",
       "      <th>2025-06-01</th>\n",
       "      <td>320.168700</td>\n",
       "      <td>421.480011</td>\n",
       "      <td>147.750000</td>\n",
       "      <td>80.379997</td>\n",
       "      <td>98.698286</td>\n",
       "      <td>237.048954</td>\n",
       "      <td>207.154893</td>\n",
       "      <td>185.269008</td>\n",
       "      <td>428.989990</td>\n",
       "      <td>103.132004</td>\n",
       "      <td>...</td>\n",
       "      <td>169.626581</td>\n",
       "      <td>513.840027</td>\n",
       "      <td>91.647791</td>\n",
       "      <td>206.884668</td>\n",
       "      <td>76.349998</td>\n",
       "      <td>594.049988</td>\n",
       "      <td>289.544618</td>\n",
       "      <td>64.145664</td>\n",
       "      <td>257.089996</td>\n",
       "      <td>313.160004</td>\n",
       "    </tr>\n",
       "    <tr>\n",
       "      <th>2025-07-01</th>\n",
       "      <td>306.238371</td>\n",
       "      <td>392.579987</td>\n",
       "      <td>182.500000</td>\n",
       "      <td>81.449997</td>\n",
       "      <td>108.699376</td>\n",
       "      <td>246.754110</td>\n",
       "      <td>215.984873</td>\n",
       "      <td>200.535255</td>\n",
       "      <td>397.920013</td>\n",
       "      <td>125.809998</td>\n",
       "      <td>...</td>\n",
       "      <td>212.005822</td>\n",
       "      <td>570.559998</td>\n",
       "      <td>113.315991</td>\n",
       "      <td>220.099137</td>\n",
       "      <td>86.419998</td>\n",
       "      <td>595.210022</td>\n",
       "      <td>309.706457</td>\n",
       "      <td>78.708376</td>\n",
       "      <td>243.729996</td>\n",
       "      <td>352.660004</td>\n",
       "    </tr>\n",
       "    <tr>\n",
       "      <th>2025-08-01</th>\n",
       "      <td>265.109985</td>\n",
       "      <td>364.649994</td>\n",
       "      <td>186.649994</td>\n",
       "      <td>79.269997</td>\n",
       "      <td>112.194534</td>\n",
       "      <td>257.113148</td>\n",
       "      <td>234.853464</td>\n",
       "      <td>190.593751</td>\n",
       "      <td>488.700012</td>\n",
       "      <td>141.990005</td>\n",
       "      <td>...</td>\n",
       "      <td>208.757387</td>\n",
       "      <td>556.450012</td>\n",
       "      <td>120.069199</td>\n",
       "      <td>209.089996</td>\n",
       "      <td>87.500000</td>\n",
       "      <td>621.340027</td>\n",
       "      <td>275.126239</td>\n",
       "      <td>82.224283</td>\n",
       "      <td>234.919998</td>\n",
       "      <td>350.640015</td>\n",
       "    </tr>\n",
       "    <tr>\n",
       "      <th>2025-09-01</th>\n",
       "      <td>260.399994</td>\n",
       "      <td>370.859985</td>\n",
       "      <td>165.100006</td>\n",
       "      <td>79.430000</td>\n",
       "      <td>125.885559</td>\n",
       "      <td>251.007287</td>\n",
       "      <td>257.600006</td>\n",
       "      <td>210.500000</td>\n",
       "      <td>745.609985</td>\n",
       "      <td>156.320007</td>\n",
       "      <td>...</td>\n",
       "      <td>221.000000</td>\n",
       "      <td>586.280029</td>\n",
       "      <td>138.101066</td>\n",
       "      <td>200.169998</td>\n",
       "      <td>83.680000</td>\n",
       "      <td>566.580017</td>\n",
       "      <td>290.820007</td>\n",
       "      <td>122.447452</td>\n",
       "      <td>249.850006</td>\n",
       "      <td>325.239990</td>\n",
       "    </tr>\n",
       "    <tr>\n",
       "      <th>2025-10-01</th>\n",
       "      <td>254.169998</td>\n",
       "      <td>357.695007</td>\n",
       "      <td>242.880005</td>\n",
       "      <td>79.000000</td>\n",
       "      <td>128.119995</td>\n",
       "      <td>248.829895</td>\n",
       "      <td>265.290009</td>\n",
       "      <td>232.070007</td>\n",
       "      <td>727.489990</td>\n",
       "      <td>162.679993</td>\n",
       "      <td>...</td>\n",
       "      <td>234.500000</td>\n",
       "      <td>595.989990</td>\n",
       "      <td>150.710007</td>\n",
       "      <td>185.460007</td>\n",
       "      <td>81.540001</td>\n",
       "      <td>525.059998</td>\n",
       "      <td>279.869995</td>\n",
       "      <td>137.399994</td>\n",
       "      <td>247.250000</td>\n",
       "      <td>311.440002</td>\n",
       "    </tr>\n",
       "  </tbody>\n",
       "</table>\n",
       "<p>310 rows × 68 columns</p>\n",
       "</div>"
      ],
      "text/plain": [
       "Ticker             ACN        ADBE         AMD        AKAM         APH  \\\n",
       "Date                                                                     \n",
       "2000-01-01         NaN   16.755620   22.562500  345.500000    1.101713   \n",
       "2000-02-01         NaN   26.467673   22.750000  275.375000    1.115314   \n",
       "2000-03-01         NaN   28.794843   30.187500  305.937500    1.417944   \n",
       "2000-04-01         NaN   31.750373   44.437500  157.875000    1.740978   \n",
       "2000-05-01         NaN   32.526287   46.437500  113.375000    1.693373   \n",
       "...                ...         ...         ...         ...         ...   \n",
       "2025-06-01  320.168700  421.480011  147.750000   80.379997   98.698286   \n",
       "2025-07-01  306.238371  392.579987  182.500000   81.449997  108.699376   \n",
       "2025-08-01  265.109985  364.649994  186.649994   79.269997  112.194534   \n",
       "2025-09-01  260.399994  370.859985  165.100006   79.430000  125.885559   \n",
       "2025-10-01  254.169998  357.695007  242.880005   79.000000  128.119995   \n",
       "\n",
       "Ticker             ADI        AAPL        AMAT         APP        ANET  ...  \\\n",
       "Date                                                                    ...   \n",
       "2000-01-01   32.370038    0.911861   26.605318         NaN         NaN  ...   \n",
       "2000-02-01   51.457559    0.900135   34.430393         NaN         NaN  ...   \n",
       "2000-03-01   58.242980    1.128569   39.919296         NaN         NaN  ...   \n",
       "2000-04-01   50.515666    1.046952   41.733821         NaN         NaN  ...   \n",
       "2000-05-01   49.054799    0.947510   38.014068         NaN         NaN  ...   \n",
       "...                ...         ...         ...         ...         ...  ...   \n",
       "2025-06-01  237.048954  207.154893  185.269008  428.989990  103.132004  ...   \n",
       "2025-07-01  246.754110  215.984873  200.535255  397.920013  125.809998  ...   \n",
       "2025-08-01  257.113148  234.853464  190.593751  488.700012  141.990005  ...   \n",
       "2025-09-01  251.007287  257.600006  210.500000  745.609985  156.320007  ...   \n",
       "2025-10-01  248.829895  265.290009  232.070007  727.489990  162.679993  ...   \n",
       "\n",
       "Ticker             TEL         TDY         TER         TXN       TRMB  \\\n",
       "Date                                                                    \n",
       "2000-01-01         NaN   10.062500   72.082233   36.319963   4.416667   \n",
       "2000-02-01         NaN   10.250000   82.445494   52.471457   4.041667   \n",
       "2000-03-01         NaN   28.500000   87.454392   61.709573   5.239583   \n",
       "2000-04-01         NaN   20.000000  103.172000   52.258901   4.666667   \n",
       "2000-05-01         NaN   19.062500  106.338534   51.172048   7.708333   \n",
       "...                ...         ...         ...         ...        ...   \n",
       "2025-06-01  169.626581  513.840027   91.647791  206.884668  76.349998   \n",
       "2025-07-01  212.005822  570.559998  113.315991  220.099137  86.419998   \n",
       "2025-08-01  208.757387  556.450012  120.069199  209.089996  87.500000   \n",
       "2025-09-01  221.000000  586.280029  138.101066  200.169998  83.680000   \n",
       "2025-10-01  234.500000  595.989990  150.710007  185.460007  81.540001   \n",
       "\n",
       "Ticker             TYL        VRSN         WDC        WDAY        ZBRA  \n",
       "Date                                                                    \n",
       "2000-01-01    6.250000  181.811070    4.045727         NaN   28.833332  \n",
       "2000-02-01    5.500000  218.278844    3.365137         NaN   31.500000  \n",
       "2000-03-01    6.187500  218.278839    5.331283         NaN   31.138889  \n",
       "2000-04-01    8.937500  151.570780    4.764127         NaN   25.805555  \n",
       "2000-05-01    5.750000  124.127616    4.348209         NaN   25.777779  \n",
       "...                ...         ...         ...         ...         ...  \n",
       "2025-06-01  594.049988  289.544618   64.145664  257.089996  313.160004  \n",
       "2025-07-01  595.210022  309.706457   78.708376  243.729996  352.660004  \n",
       "2025-08-01  621.340027  275.126239   82.224283  234.919998  350.640015  \n",
       "2025-09-01  566.580017  290.820007  122.447452  249.850006  325.239990  \n",
       "2025-10-01  525.059998  279.869995  137.399994  247.250000  311.440002  \n",
       "\n",
       "[310 rows x 68 columns]"
      ]
     },
     "execution_count": 2,
     "metadata": {},
     "output_type": "execute_result"
    }
   ],
   "source": [
    "all_highs"
   ]
  },
  {
   "cell_type": "code",
   "execution_count": 3,
   "id": "84070e6b",
   "metadata": {},
   "outputs": [],
   "source": [
    "all_highs.to_csv(\"Highs.csv\")"
   ]
  },
  {
   "cell_type": "code",
   "execution_count": 19,
   "id": "6402cdb1",
   "metadata": {},
   "outputs": [
    {
     "name": "stdout",
     "output_type": "stream",
     "text": [
      "ACN\n",
      "ADBE\n"
     ]
    },
    {
     "name": "stderr",
     "output_type": "stream",
     "text": [
      "/var/folders/ws/7t3gqj3100d_5thx31mhght00000gp/T/ipykernel_13694/1261142733.py:15: FutureWarning: YF.download() has changed argument auto_adjust default to True\n",
      "  data = yf.download(ticker, start='1978-01-01', interval='1mo', progress=False)\n",
      "/var/folders/ws/7t3gqj3100d_5thx31mhght00000gp/T/ipykernel_13694/1261142733.py:15: FutureWarning: YF.download() has changed argument auto_adjust default to True\n",
      "  data = yf.download(ticker, start='1978-01-01', interval='1mo', progress=False)\n"
     ]
    },
    {
     "name": "stdout",
     "output_type": "stream",
     "text": [
      "AMD\n"
     ]
    },
    {
     "name": "stderr",
     "output_type": "stream",
     "text": [
      "/var/folders/ws/7t3gqj3100d_5thx31mhght00000gp/T/ipykernel_13694/1261142733.py:15: FutureWarning: YF.download() has changed argument auto_adjust default to True\n",
      "  data = yf.download(ticker, start='1978-01-01', interval='1mo', progress=False)\n"
     ]
    },
    {
     "name": "stdout",
     "output_type": "stream",
     "text": [
      "AKAM\n"
     ]
    },
    {
     "name": "stderr",
     "output_type": "stream",
     "text": [
      "/var/folders/ws/7t3gqj3100d_5thx31mhght00000gp/T/ipykernel_13694/1261142733.py:15: FutureWarning: YF.download() has changed argument auto_adjust default to True\n",
      "  data = yf.download(ticker, start='1978-01-01', interval='1mo', progress=False)\n"
     ]
    },
    {
     "name": "stdout",
     "output_type": "stream",
     "text": [
      "APH\n"
     ]
    },
    {
     "name": "stderr",
     "output_type": "stream",
     "text": [
      "/var/folders/ws/7t3gqj3100d_5thx31mhght00000gp/T/ipykernel_13694/1261142733.py:15: FutureWarning: YF.download() has changed argument auto_adjust default to True\n",
      "  data = yf.download(ticker, start='1978-01-01', interval='1mo', progress=False)\n"
     ]
    },
    {
     "name": "stdout",
     "output_type": "stream",
     "text": [
      "ADI\n"
     ]
    },
    {
     "name": "stderr",
     "output_type": "stream",
     "text": [
      "/var/folders/ws/7t3gqj3100d_5thx31mhght00000gp/T/ipykernel_13694/1261142733.py:15: FutureWarning: YF.download() has changed argument auto_adjust default to True\n",
      "  data = yf.download(ticker, start='1978-01-01', interval='1mo', progress=False)\n"
     ]
    },
    {
     "name": "stdout",
     "output_type": "stream",
     "text": [
      "AAPL\n"
     ]
    },
    {
     "name": "stderr",
     "output_type": "stream",
     "text": [
      "/var/folders/ws/7t3gqj3100d_5thx31mhght00000gp/T/ipykernel_13694/1261142733.py:15: FutureWarning: YF.download() has changed argument auto_adjust default to True\n",
      "  data = yf.download(ticker, start='1978-01-01', interval='1mo', progress=False)\n"
     ]
    },
    {
     "name": "stdout",
     "output_type": "stream",
     "text": [
      "AMAT\n"
     ]
    },
    {
     "name": "stderr",
     "output_type": "stream",
     "text": [
      "/var/folders/ws/7t3gqj3100d_5thx31mhght00000gp/T/ipykernel_13694/1261142733.py:15: FutureWarning: YF.download() has changed argument auto_adjust default to True\n",
      "  data = yf.download(ticker, start='1978-01-01', interval='1mo', progress=False)\n"
     ]
    },
    {
     "name": "stdout",
     "output_type": "stream",
     "text": [
      "APP\n",
      "ANET\n"
     ]
    },
    {
     "name": "stderr",
     "output_type": "stream",
     "text": [
      "/var/folders/ws/7t3gqj3100d_5thx31mhght00000gp/T/ipykernel_13694/1261142733.py:15: FutureWarning: YF.download() has changed argument auto_adjust default to True\n",
      "  data = yf.download(ticker, start='1978-01-01', interval='1mo', progress=False)\n",
      "/var/folders/ws/7t3gqj3100d_5thx31mhght00000gp/T/ipykernel_13694/1261142733.py:15: FutureWarning: YF.download() has changed argument auto_adjust default to True\n",
      "  data = yf.download(ticker, start='1978-01-01', interval='1mo', progress=False)\n"
     ]
    },
    {
     "name": "stdout",
     "output_type": "stream",
     "text": [
      "ADSK\n"
     ]
    },
    {
     "name": "stderr",
     "output_type": "stream",
     "text": [
      "/var/folders/ws/7t3gqj3100d_5thx31mhght00000gp/T/ipykernel_13694/1261142733.py:15: FutureWarning: YF.download() has changed argument auto_adjust default to True\n",
      "  data = yf.download(ticker, start='1978-01-01', interval='1mo', progress=False)\n"
     ]
    },
    {
     "name": "stdout",
     "output_type": "stream",
     "text": [
      "AVGO\n"
     ]
    },
    {
     "name": "stderr",
     "output_type": "stream",
     "text": [
      "/var/folders/ws/7t3gqj3100d_5thx31mhght00000gp/T/ipykernel_13694/1261142733.py:15: FutureWarning: YF.download() has changed argument auto_adjust default to True\n",
      "  data = yf.download(ticker, start='1978-01-01', interval='1mo', progress=False)\n"
     ]
    },
    {
     "name": "stdout",
     "output_type": "stream",
     "text": [
      "CDNS\n"
     ]
    },
    {
     "name": "stderr",
     "output_type": "stream",
     "text": [
      "/var/folders/ws/7t3gqj3100d_5thx31mhght00000gp/T/ipykernel_13694/1261142733.py:15: FutureWarning: YF.download() has changed argument auto_adjust default to True\n",
      "  data = yf.download(ticker, start='1978-01-01', interval='1mo', progress=False)\n"
     ]
    },
    {
     "name": "stdout",
     "output_type": "stream",
     "text": [
      "CDW\n"
     ]
    },
    {
     "name": "stderr",
     "output_type": "stream",
     "text": [
      "/var/folders/ws/7t3gqj3100d_5thx31mhght00000gp/T/ipykernel_13694/1261142733.py:15: FutureWarning: YF.download() has changed argument auto_adjust default to True\n",
      "  data = yf.download(ticker, start='1978-01-01', interval='1mo', progress=False)\n"
     ]
    },
    {
     "name": "stdout",
     "output_type": "stream",
     "text": [
      "CSCO\n"
     ]
    },
    {
     "name": "stderr",
     "output_type": "stream",
     "text": [
      "/var/folders/ws/7t3gqj3100d_5thx31mhght00000gp/T/ipykernel_13694/1261142733.py:15: FutureWarning: YF.download() has changed argument auto_adjust default to True\n",
      "  data = yf.download(ticker, start='1978-01-01', interval='1mo', progress=False)\n"
     ]
    },
    {
     "name": "stdout",
     "output_type": "stream",
     "text": [
      "CTSH\n"
     ]
    },
    {
     "name": "stderr",
     "output_type": "stream",
     "text": [
      "/var/folders/ws/7t3gqj3100d_5thx31mhght00000gp/T/ipykernel_13694/1261142733.py:15: FutureWarning: YF.download() has changed argument auto_adjust default to True\n",
      "  data = yf.download(ticker, start='1978-01-01', interval='1mo', progress=False)\n"
     ]
    },
    {
     "name": "stdout",
     "output_type": "stream",
     "text": [
      "GLW\n"
     ]
    },
    {
     "name": "stderr",
     "output_type": "stream",
     "text": [
      "/var/folders/ws/7t3gqj3100d_5thx31mhght00000gp/T/ipykernel_13694/1261142733.py:15: FutureWarning: YF.download() has changed argument auto_adjust default to True\n",
      "  data = yf.download(ticker, start='1978-01-01', interval='1mo', progress=False)\n"
     ]
    },
    {
     "name": "stdout",
     "output_type": "stream",
     "text": [
      "CRWD\n"
     ]
    },
    {
     "name": "stderr",
     "output_type": "stream",
     "text": [
      "/var/folders/ws/7t3gqj3100d_5thx31mhght00000gp/T/ipykernel_13694/1261142733.py:15: FutureWarning: YF.download() has changed argument auto_adjust default to True\n",
      "  data = yf.download(ticker, start='1978-01-01', interval='1mo', progress=False)\n"
     ]
    },
    {
     "name": "stdout",
     "output_type": "stream",
     "text": [
      "DDOG\n"
     ]
    },
    {
     "name": "stderr",
     "output_type": "stream",
     "text": [
      "/var/folders/ws/7t3gqj3100d_5thx31mhght00000gp/T/ipykernel_13694/1261142733.py:15: FutureWarning: YF.download() has changed argument auto_adjust default to True\n",
      "  data = yf.download(ticker, start='1978-01-01', interval='1mo', progress=False)\n"
     ]
    },
    {
     "name": "stdout",
     "output_type": "stream",
     "text": [
      "DELL\n",
      "EPAM\n"
     ]
    },
    {
     "name": "stderr",
     "output_type": "stream",
     "text": [
      "/var/folders/ws/7t3gqj3100d_5thx31mhght00000gp/T/ipykernel_13694/1261142733.py:15: FutureWarning: YF.download() has changed argument auto_adjust default to True\n",
      "  data = yf.download(ticker, start='1978-01-01', interval='1mo', progress=False)\n",
      "/var/folders/ws/7t3gqj3100d_5thx31mhght00000gp/T/ipykernel_13694/1261142733.py:15: FutureWarning: YF.download() has changed argument auto_adjust default to True\n",
      "  data = yf.download(ticker, start='1978-01-01', interval='1mo', progress=False)\n"
     ]
    },
    {
     "name": "stdout",
     "output_type": "stream",
     "text": [
      "FFIV\n",
      "FICO\n"
     ]
    },
    {
     "name": "stderr",
     "output_type": "stream",
     "text": [
      "/var/folders/ws/7t3gqj3100d_5thx31mhght00000gp/T/ipykernel_13694/1261142733.py:15: FutureWarning: YF.download() has changed argument auto_adjust default to True\n",
      "  data = yf.download(ticker, start='1978-01-01', interval='1mo', progress=False)\n",
      "/var/folders/ws/7t3gqj3100d_5thx31mhght00000gp/T/ipykernel_13694/1261142733.py:15: FutureWarning: YF.download() has changed argument auto_adjust default to True\n",
      "  data = yf.download(ticker, start='1978-01-01', interval='1mo', progress=False)\n"
     ]
    },
    {
     "name": "stdout",
     "output_type": "stream",
     "text": [
      "FSLR\n",
      "FTNT\n"
     ]
    },
    {
     "name": "stderr",
     "output_type": "stream",
     "text": [
      "/var/folders/ws/7t3gqj3100d_5thx31mhght00000gp/T/ipykernel_13694/1261142733.py:15: FutureWarning: YF.download() has changed argument auto_adjust default to True\n",
      "  data = yf.download(ticker, start='1978-01-01', interval='1mo', progress=False)\n",
      "/var/folders/ws/7t3gqj3100d_5thx31mhght00000gp/T/ipykernel_13694/1261142733.py:15: FutureWarning: YF.download() has changed argument auto_adjust default to True\n",
      "  data = yf.download(ticker, start='1978-01-01', interval='1mo', progress=False)\n"
     ]
    },
    {
     "name": "stdout",
     "output_type": "stream",
     "text": [
      "IT\n"
     ]
    },
    {
     "name": "stderr",
     "output_type": "stream",
     "text": [
      "/var/folders/ws/7t3gqj3100d_5thx31mhght00000gp/T/ipykernel_13694/1261142733.py:15: FutureWarning: YF.download() has changed argument auto_adjust default to True\n",
      "  data = yf.download(ticker, start='1978-01-01', interval='1mo', progress=False)\n"
     ]
    },
    {
     "name": "stdout",
     "output_type": "stream",
     "text": [
      "GEN\n",
      "GDDY\n"
     ]
    },
    {
     "name": "stderr",
     "output_type": "stream",
     "text": [
      "/var/folders/ws/7t3gqj3100d_5thx31mhght00000gp/T/ipykernel_13694/1261142733.py:15: FutureWarning: YF.download() has changed argument auto_adjust default to True\n",
      "  data = yf.download(ticker, start='1978-01-01', interval='1mo', progress=False)\n",
      "/var/folders/ws/7t3gqj3100d_5thx31mhght00000gp/T/ipykernel_13694/1261142733.py:15: FutureWarning: YF.download() has changed argument auto_adjust default to True\n",
      "  data = yf.download(ticker, start='1978-01-01', interval='1mo', progress=False)\n"
     ]
    },
    {
     "name": "stdout",
     "output_type": "stream",
     "text": [
      "HPE\n",
      "HPQ\n"
     ]
    },
    {
     "name": "stderr",
     "output_type": "stream",
     "text": [
      "/var/folders/ws/7t3gqj3100d_5thx31mhght00000gp/T/ipykernel_13694/1261142733.py:15: FutureWarning: YF.download() has changed argument auto_adjust default to True\n",
      "  data = yf.download(ticker, start='1978-01-01', interval='1mo', progress=False)\n",
      "/var/folders/ws/7t3gqj3100d_5thx31mhght00000gp/T/ipykernel_13694/1261142733.py:15: FutureWarning: YF.download() has changed argument auto_adjust default to True\n",
      "  data = yf.download(ticker, start='1978-01-01', interval='1mo', progress=False)\n"
     ]
    },
    {
     "name": "stdout",
     "output_type": "stream",
     "text": [
      "IBM\n"
     ]
    },
    {
     "name": "stderr",
     "output_type": "stream",
     "text": [
      "/var/folders/ws/7t3gqj3100d_5thx31mhght00000gp/T/ipykernel_13694/1261142733.py:15: FutureWarning: YF.download() has changed argument auto_adjust default to True\n",
      "  data = yf.download(ticker, start='1978-01-01', interval='1mo', progress=False)\n"
     ]
    },
    {
     "name": "stdout",
     "output_type": "stream",
     "text": [
      "INTC\n"
     ]
    },
    {
     "name": "stderr",
     "output_type": "stream",
     "text": [
      "/var/folders/ws/7t3gqj3100d_5thx31mhght00000gp/T/ipykernel_13694/1261142733.py:15: FutureWarning: YF.download() has changed argument auto_adjust default to True\n",
      "  data = yf.download(ticker, start='1978-01-01', interval='1mo', progress=False)\n"
     ]
    },
    {
     "name": "stdout",
     "output_type": "stream",
     "text": [
      "INTU\n"
     ]
    },
    {
     "name": "stderr",
     "output_type": "stream",
     "text": [
      "/var/folders/ws/7t3gqj3100d_5thx31mhght00000gp/T/ipykernel_13694/1261142733.py:15: FutureWarning: YF.download() has changed argument auto_adjust default to True\n",
      "  data = yf.download(ticker, start='1978-01-01', interval='1mo', progress=False)\n"
     ]
    },
    {
     "name": "stdout",
     "output_type": "stream",
     "text": [
      "JBL\n"
     ]
    },
    {
     "name": "stderr",
     "output_type": "stream",
     "text": [
      "/var/folders/ws/7t3gqj3100d_5thx31mhght00000gp/T/ipykernel_13694/1261142733.py:15: FutureWarning: YF.download() has changed argument auto_adjust default to True\n",
      "  data = yf.download(ticker, start='1978-01-01', interval='1mo', progress=False)\n"
     ]
    },
    {
     "name": "stdout",
     "output_type": "stream",
     "text": [
      "KEYS\n"
     ]
    },
    {
     "name": "stderr",
     "output_type": "stream",
     "text": [
      "/var/folders/ws/7t3gqj3100d_5thx31mhght00000gp/T/ipykernel_13694/1261142733.py:15: FutureWarning: YF.download() has changed argument auto_adjust default to True\n",
      "  data = yf.download(ticker, start='1978-01-01', interval='1mo', progress=False)\n"
     ]
    },
    {
     "name": "stdout",
     "output_type": "stream",
     "text": [
      "KLAC\n"
     ]
    },
    {
     "name": "stderr",
     "output_type": "stream",
     "text": [
      "/var/folders/ws/7t3gqj3100d_5thx31mhght00000gp/T/ipykernel_13694/1261142733.py:15: FutureWarning: YF.download() has changed argument auto_adjust default to True\n",
      "  data = yf.download(ticker, start='1978-01-01', interval='1mo', progress=False)\n"
     ]
    },
    {
     "name": "stdout",
     "output_type": "stream",
     "text": [
      "LRCX\n"
     ]
    },
    {
     "name": "stderr",
     "output_type": "stream",
     "text": [
      "/var/folders/ws/7t3gqj3100d_5thx31mhght00000gp/T/ipykernel_13694/1261142733.py:15: FutureWarning: YF.download() has changed argument auto_adjust default to True\n",
      "  data = yf.download(ticker, start='1978-01-01', interval='1mo', progress=False)\n"
     ]
    },
    {
     "name": "stdout",
     "output_type": "stream",
     "text": [
      "MCHP\n"
     ]
    },
    {
     "name": "stderr",
     "output_type": "stream",
     "text": [
      "/var/folders/ws/7t3gqj3100d_5thx31mhght00000gp/T/ipykernel_13694/1261142733.py:15: FutureWarning: YF.download() has changed argument auto_adjust default to True\n",
      "  data = yf.download(ticker, start='1978-01-01', interval='1mo', progress=False)\n"
     ]
    },
    {
     "name": "stdout",
     "output_type": "stream",
     "text": [
      "MU\n"
     ]
    },
    {
     "name": "stderr",
     "output_type": "stream",
     "text": [
      "/var/folders/ws/7t3gqj3100d_5thx31mhght00000gp/T/ipykernel_13694/1261142733.py:15: FutureWarning: YF.download() has changed argument auto_adjust default to True\n",
      "  data = yf.download(ticker, start='1978-01-01', interval='1mo', progress=False)\n"
     ]
    },
    {
     "name": "stdout",
     "output_type": "stream",
     "text": [
      "MSFT\n"
     ]
    },
    {
     "name": "stderr",
     "output_type": "stream",
     "text": [
      "/var/folders/ws/7t3gqj3100d_5thx31mhght00000gp/T/ipykernel_13694/1261142733.py:15: FutureWarning: YF.download() has changed argument auto_adjust default to True\n",
      "  data = yf.download(ticker, start='1978-01-01', interval='1mo', progress=False)\n"
     ]
    },
    {
     "name": "stdout",
     "output_type": "stream",
     "text": [
      "MPWR\n",
      "MSI\n"
     ]
    },
    {
     "name": "stderr",
     "output_type": "stream",
     "text": [
      "/var/folders/ws/7t3gqj3100d_5thx31mhght00000gp/T/ipykernel_13694/1261142733.py:15: FutureWarning: YF.download() has changed argument auto_adjust default to True\n",
      "  data = yf.download(ticker, start='1978-01-01', interval='1mo', progress=False)\n",
      "/var/folders/ws/7t3gqj3100d_5thx31mhght00000gp/T/ipykernel_13694/1261142733.py:15: FutureWarning: YF.download() has changed argument auto_adjust default to True\n",
      "  data = yf.download(ticker, start='1978-01-01', interval='1mo', progress=False)\n"
     ]
    },
    {
     "name": "stdout",
     "output_type": "stream",
     "text": [
      "NTAP\n"
     ]
    },
    {
     "name": "stderr",
     "output_type": "stream",
     "text": [
      "/var/folders/ws/7t3gqj3100d_5thx31mhght00000gp/T/ipykernel_13694/1261142733.py:15: FutureWarning: YF.download() has changed argument auto_adjust default to True\n",
      "  data = yf.download(ticker, start='1978-01-01', interval='1mo', progress=False)\n"
     ]
    },
    {
     "name": "stdout",
     "output_type": "stream",
     "text": [
      "NVDA\n"
     ]
    },
    {
     "name": "stderr",
     "output_type": "stream",
     "text": [
      "/var/folders/ws/7t3gqj3100d_5thx31mhght00000gp/T/ipykernel_13694/1261142733.py:15: FutureWarning: YF.download() has changed argument auto_adjust default to True\n",
      "  data = yf.download(ticker, start='1978-01-01', interval='1mo', progress=False)\n"
     ]
    },
    {
     "name": "stdout",
     "output_type": "stream",
     "text": [
      "NXPI\n",
      "ON\n"
     ]
    },
    {
     "name": "stderr",
     "output_type": "stream",
     "text": [
      "/var/folders/ws/7t3gqj3100d_5thx31mhght00000gp/T/ipykernel_13694/1261142733.py:15: FutureWarning: YF.download() has changed argument auto_adjust default to True\n",
      "  data = yf.download(ticker, start='1978-01-01', interval='1mo', progress=False)\n",
      "/var/folders/ws/7t3gqj3100d_5thx31mhght00000gp/T/ipykernel_13694/1261142733.py:15: FutureWarning: YF.download() has changed argument auto_adjust default to True\n",
      "  data = yf.download(ticker, start='1978-01-01', interval='1mo', progress=False)\n"
     ]
    },
    {
     "name": "stdout",
     "output_type": "stream",
     "text": [
      "ORCL\n"
     ]
    },
    {
     "name": "stderr",
     "output_type": "stream",
     "text": [
      "/var/folders/ws/7t3gqj3100d_5thx31mhght00000gp/T/ipykernel_13694/1261142733.py:15: FutureWarning: YF.download() has changed argument auto_adjust default to True\n",
      "  data = yf.download(ticker, start='1978-01-01', interval='1mo', progress=False)\n"
     ]
    },
    {
     "name": "stdout",
     "output_type": "stream",
     "text": [
      "PLTR\n"
     ]
    },
    {
     "name": "stderr",
     "output_type": "stream",
     "text": [
      "/var/folders/ws/7t3gqj3100d_5thx31mhght00000gp/T/ipykernel_13694/1261142733.py:15: FutureWarning: YF.download() has changed argument auto_adjust default to True\n",
      "  data = yf.download(ticker, start='1978-01-01', interval='1mo', progress=False)\n"
     ]
    },
    {
     "name": "stdout",
     "output_type": "stream",
     "text": [
      "PANW\n"
     ]
    },
    {
     "name": "stderr",
     "output_type": "stream",
     "text": [
      "/var/folders/ws/7t3gqj3100d_5thx31mhght00000gp/T/ipykernel_13694/1261142733.py:15: FutureWarning: YF.download() has changed argument auto_adjust default to True\n",
      "  data = yf.download(ticker, start='1978-01-01', interval='1mo', progress=False)\n"
     ]
    },
    {
     "name": "stdout",
     "output_type": "stream",
     "text": [
      "PTC\n"
     ]
    },
    {
     "name": "stderr",
     "output_type": "stream",
     "text": [
      "/var/folders/ws/7t3gqj3100d_5thx31mhght00000gp/T/ipykernel_13694/1261142733.py:15: FutureWarning: YF.download() has changed argument auto_adjust default to True\n",
      "  data = yf.download(ticker, start='1978-01-01', interval='1mo', progress=False)\n"
     ]
    },
    {
     "name": "stdout",
     "output_type": "stream",
     "text": [
      "QCOM\n"
     ]
    },
    {
     "name": "stderr",
     "output_type": "stream",
     "text": [
      "/var/folders/ws/7t3gqj3100d_5thx31mhght00000gp/T/ipykernel_13694/1261142733.py:15: FutureWarning: YF.download() has changed argument auto_adjust default to True\n",
      "  data = yf.download(ticker, start='1978-01-01', interval='1mo', progress=False)\n"
     ]
    },
    {
     "name": "stdout",
     "output_type": "stream",
     "text": [
      "ROP\n"
     ]
    },
    {
     "name": "stderr",
     "output_type": "stream",
     "text": [
      "/var/folders/ws/7t3gqj3100d_5thx31mhght00000gp/T/ipykernel_13694/1261142733.py:15: FutureWarning: YF.download() has changed argument auto_adjust default to True\n",
      "  data = yf.download(ticker, start='1978-01-01', interval='1mo', progress=False)\n"
     ]
    },
    {
     "name": "stdout",
     "output_type": "stream",
     "text": [
      "CRM\n"
     ]
    },
    {
     "name": "stderr",
     "output_type": "stream",
     "text": [
      "/var/folders/ws/7t3gqj3100d_5thx31mhght00000gp/T/ipykernel_13694/1261142733.py:15: FutureWarning: YF.download() has changed argument auto_adjust default to True\n",
      "  data = yf.download(ticker, start='1978-01-01', interval='1mo', progress=False)\n"
     ]
    },
    {
     "name": "stdout",
     "output_type": "stream",
     "text": [
      "STX\n"
     ]
    },
    {
     "name": "stderr",
     "output_type": "stream",
     "text": [
      "/var/folders/ws/7t3gqj3100d_5thx31mhght00000gp/T/ipykernel_13694/1261142733.py:15: FutureWarning: YF.download() has changed argument auto_adjust default to True\n",
      "  data = yf.download(ticker, start='1978-01-01', interval='1mo', progress=False)\n"
     ]
    },
    {
     "name": "stdout",
     "output_type": "stream",
     "text": [
      "NOW\n",
      "SWKS\n"
     ]
    },
    {
     "name": "stderr",
     "output_type": "stream",
     "text": [
      "/var/folders/ws/7t3gqj3100d_5thx31mhght00000gp/T/ipykernel_13694/1261142733.py:15: FutureWarning: YF.download() has changed argument auto_adjust default to True\n",
      "  data = yf.download(ticker, start='1978-01-01', interval='1mo', progress=False)\n",
      "/var/folders/ws/7t3gqj3100d_5thx31mhght00000gp/T/ipykernel_13694/1261142733.py:15: FutureWarning: YF.download() has changed argument auto_adjust default to True\n",
      "  data = yf.download(ticker, start='1978-01-01', interval='1mo', progress=False)\n"
     ]
    },
    {
     "name": "stdout",
     "output_type": "stream",
     "text": [
      "SMCI\n",
      "SNPS\n"
     ]
    },
    {
     "name": "stderr",
     "output_type": "stream",
     "text": [
      "/var/folders/ws/7t3gqj3100d_5thx31mhght00000gp/T/ipykernel_13694/1261142733.py:15: FutureWarning: YF.download() has changed argument auto_adjust default to True\n",
      "  data = yf.download(ticker, start='1978-01-01', interval='1mo', progress=False)\n",
      "/var/folders/ws/7t3gqj3100d_5thx31mhght00000gp/T/ipykernel_13694/1261142733.py:15: FutureWarning: YF.download() has changed argument auto_adjust default to True\n",
      "  data = yf.download(ticker, start='1978-01-01', interval='1mo', progress=False)\n"
     ]
    },
    {
     "name": "stdout",
     "output_type": "stream",
     "text": [
      "TEL\n"
     ]
    },
    {
     "name": "stderr",
     "output_type": "stream",
     "text": [
      "/var/folders/ws/7t3gqj3100d_5thx31mhght00000gp/T/ipykernel_13694/1261142733.py:15: FutureWarning: YF.download() has changed argument auto_adjust default to True\n",
      "  data = yf.download(ticker, start='1978-01-01', interval='1mo', progress=False)\n"
     ]
    },
    {
     "name": "stdout",
     "output_type": "stream",
     "text": [
      "TDY\n",
      "TER\n"
     ]
    },
    {
     "name": "stderr",
     "output_type": "stream",
     "text": [
      "/var/folders/ws/7t3gqj3100d_5thx31mhght00000gp/T/ipykernel_13694/1261142733.py:15: FutureWarning: YF.download() has changed argument auto_adjust default to True\n",
      "  data = yf.download(ticker, start='1978-01-01', interval='1mo', progress=False)\n",
      "/var/folders/ws/7t3gqj3100d_5thx31mhght00000gp/T/ipykernel_13694/1261142733.py:15: FutureWarning: YF.download() has changed argument auto_adjust default to True\n",
      "  data = yf.download(ticker, start='1978-01-01', interval='1mo', progress=False)\n"
     ]
    },
    {
     "name": "stdout",
     "output_type": "stream",
     "text": [
      "TXN\n"
     ]
    },
    {
     "name": "stderr",
     "output_type": "stream",
     "text": [
      "/var/folders/ws/7t3gqj3100d_5thx31mhght00000gp/T/ipykernel_13694/1261142733.py:15: FutureWarning: YF.download() has changed argument auto_adjust default to True\n",
      "  data = yf.download(ticker, start='1978-01-01', interval='1mo', progress=False)\n"
     ]
    },
    {
     "name": "stdout",
     "output_type": "stream",
     "text": [
      "TRMB\n",
      "TYL\n"
     ]
    },
    {
     "name": "stderr",
     "output_type": "stream",
     "text": [
      "/var/folders/ws/7t3gqj3100d_5thx31mhght00000gp/T/ipykernel_13694/1261142733.py:15: FutureWarning: YF.download() has changed argument auto_adjust default to True\n",
      "  data = yf.download(ticker, start='1978-01-01', interval='1mo', progress=False)\n",
      "/var/folders/ws/7t3gqj3100d_5thx31mhght00000gp/T/ipykernel_13694/1261142733.py:15: FutureWarning: YF.download() has changed argument auto_adjust default to True\n",
      "  data = yf.download(ticker, start='1978-01-01', interval='1mo', progress=False)\n"
     ]
    },
    {
     "name": "stdout",
     "output_type": "stream",
     "text": [
      "VRSN\n",
      "WDC\n"
     ]
    },
    {
     "name": "stderr",
     "output_type": "stream",
     "text": [
      "/var/folders/ws/7t3gqj3100d_5thx31mhght00000gp/T/ipykernel_13694/1261142733.py:15: FutureWarning: YF.download() has changed argument auto_adjust default to True\n",
      "  data = yf.download(ticker, start='1978-01-01', interval='1mo', progress=False)\n",
      "/var/folders/ws/7t3gqj3100d_5thx31mhght00000gp/T/ipykernel_13694/1261142733.py:15: FutureWarning: YF.download() has changed argument auto_adjust default to True\n",
      "  data = yf.download(ticker, start='1978-01-01', interval='1mo', progress=False)\n"
     ]
    },
    {
     "name": "stdout",
     "output_type": "stream",
     "text": [
      "WDAY\n",
      "ZBRA\n"
     ]
    },
    {
     "name": "stderr",
     "output_type": "stream",
     "text": [
      "/var/folders/ws/7t3gqj3100d_5thx31mhght00000gp/T/ipykernel_13694/1261142733.py:15: FutureWarning: YF.download() has changed argument auto_adjust default to True\n",
      "  data = yf.download(ticker, start='1978-01-01', interval='1mo', progress=False)\n",
      "/var/folders/ws/7t3gqj3100d_5thx31mhght00000gp/T/ipykernel_13694/1261142733.py:15: FutureWarning: YF.download() has changed argument auto_adjust default to True\n",
      "  data = yf.download(ticker, start='1978-01-01', interval='1mo', progress=False)\n"
     ]
    },
    {
     "name": "stdout",
     "output_type": "stream",
     "text": [
      "hi\n"
     ]
    }
   ],
   "source": [
    "import pandas as pd\n",
    "import yfinance as yf\n",
    "\n",
    "# Read tickers from the first row of your Excel file\n",
    "file_path = 'SP 500 List.csv'\n",
    "tickers = pd.read_csv(file_path, header=None).iloc[0].dropna().tolist()\n",
    "\n",
    "# Create an empty DataFrame to hold monthly highs\n",
    "all_lows = pd.DataFrame()\n",
    "\n",
    "# Loop through each ticker and get monthly high data\n",
    "for ticker in tickers:\n",
    "    print(ticker)\n",
    "    try:\n",
    "        data = yf.download(ticker, start='1978-01-01', interval='1mo', progress=False)\n",
    "        \n",
    "        # Only keep the \"High\" column and rename it to the ticker\n",
    "        data = data[['Low']].rename(columns={'Low': ticker})\n",
    "        \n",
    "        # Combine into one dataframe\n",
    "        all_lows = pd.concat([all_lows, data[ticker]], axis=1)\n",
    "    except Exception as e:\n",
    "        print(f\"Error downloading {ticker}: {e}\")\n",
    "\n",
    "# Convert to monthly highs, with NaN if the company didn’t exist yet\n",
    "print(\"hi\")\n",
    "all_lows = all_highs.sort_index()\n",
    "all_lows.index.name = 'Date'"
   ]
  },
  {
   "cell_type": "code",
   "execution_count": 16,
   "id": "709a6069",
   "metadata": {},
   "outputs": [],
   "source": [
    "all_lows.to_csv('Lows.csv')"
   ]
  },
  {
   "cell_type": "code",
   "execution_count": 20,
   "id": "cf441fe7",
   "metadata": {},
   "outputs": [
    {
     "data": {
      "text/html": [
       "<div>\n",
       "<style scoped>\n",
       "    .dataframe tbody tr th:only-of-type {\n",
       "        vertical-align: middle;\n",
       "    }\n",
       "\n",
       "    .dataframe tbody tr th {\n",
       "        vertical-align: top;\n",
       "    }\n",
       "\n",
       "    .dataframe thead th {\n",
       "        text-align: right;\n",
       "    }\n",
       "</style>\n",
       "<table border=\"1\" class=\"dataframe\">\n",
       "  <thead>\n",
       "    <tr style=\"text-align: right;\">\n",
       "      <th>Ticker</th>\n",
       "      <th>ZBRA</th>\n",
       "    </tr>\n",
       "    <tr>\n",
       "      <th>Date</th>\n",
       "      <th></th>\n",
       "    </tr>\n",
       "  </thead>\n",
       "  <tbody>\n",
       "    <tr>\n",
       "      <th>1991-08-01</th>\n",
       "      <td>3.555556</td>\n",
       "    </tr>\n",
       "    <tr>\n",
       "      <th>1991-09-01</th>\n",
       "      <td>3.833333</td>\n",
       "    </tr>\n",
       "    <tr>\n",
       "      <th>1991-10-01</th>\n",
       "      <td>3.500000</td>\n",
       "    </tr>\n",
       "    <tr>\n",
       "      <th>1991-11-01</th>\n",
       "      <td>3.666667</td>\n",
       "    </tr>\n",
       "    <tr>\n",
       "      <th>1991-12-01</th>\n",
       "      <td>3.222222</td>\n",
       "    </tr>\n",
       "    <tr>\n",
       "      <th>...</th>\n",
       "      <td>...</td>\n",
       "    </tr>\n",
       "    <tr>\n",
       "      <th>2025-06-01</th>\n",
       "      <td>282.029999</td>\n",
       "    </tr>\n",
       "    <tr>\n",
       "      <th>2025-07-01</th>\n",
       "      <td>307.540009</td>\n",
       "    </tr>\n",
       "    <tr>\n",
       "      <th>2025-08-01</th>\n",
       "      <td>299.480011</td>\n",
       "    </tr>\n",
       "    <tr>\n",
       "      <th>2025-09-01</th>\n",
       "      <td>292.089996</td>\n",
       "    </tr>\n",
       "    <tr>\n",
       "      <th>2025-10-01</th>\n",
       "      <td>275.760010</td>\n",
       "    </tr>\n",
       "  </tbody>\n",
       "</table>\n",
       "<p>411 rows × 1 columns</p>\n",
       "</div>"
      ],
      "text/plain": [
       "Ticker            ZBRA\n",
       "Date                  \n",
       "1991-08-01    3.555556\n",
       "1991-09-01    3.833333\n",
       "1991-10-01    3.500000\n",
       "1991-11-01    3.666667\n",
       "1991-12-01    3.222222\n",
       "...                ...\n",
       "2025-06-01  282.029999\n",
       "2025-07-01  307.540009\n",
       "2025-08-01  299.480011\n",
       "2025-09-01  292.089996\n",
       "2025-10-01  275.760010\n",
       "\n",
       "[411 rows x 1 columns]"
      ]
     },
     "execution_count": 20,
     "metadata": {},
     "output_type": "execute_result"
    }
   ],
   "source": []
  },
  {
   "cell_type": "code",
   "execution_count": null,
   "id": "dcc9c344",
   "metadata": {},
   "outputs": [],
   "source": []
  }
 ],
 "metadata": {
  "kernelspec": {
   "display_name": "Python 3 (ipykernel)",
   "language": "python",
   "name": "python3"
  },
  "language_info": {
   "codemirror_mode": {
    "name": "ipython",
    "version": 3
   },
   "file_extension": ".py",
   "mimetype": "text/x-python",
   "name": "python",
   "nbconvert_exporter": "python",
   "pygments_lexer": "ipython3",
   "version": "3.11.4"
  }
 },
 "nbformat": 4,
 "nbformat_minor": 5
}
